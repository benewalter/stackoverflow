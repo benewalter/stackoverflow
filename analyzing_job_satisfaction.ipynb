{
 "cells": [
  {
   "cell_type": "markdown",
   "metadata": {},
   "source": [
    "# Analyzing the 2020 Stack Overflow Developer Survey - Which Characteristics Do Developers with a High Job Satisfaction Share?\n",
    "\n",
    "This Jupyter Notebook represents the basis for a Medium post as part of the Udacity Data Scientist Nanodegree. The goal of this analysis was to analyze and identify a few of the characteristics that satisfied developers share. Answering this question, the analysis intended to explore whether individuals can influence their job satisfaction or whether these factors are mainly set and not influenceable.\n",
    "\n",
    "To answer these questions and to provide the basis for the Medium post, this Jupyter Notebook is structured according to the following sections:\n",
    "* 1 Business Understanding\n",
    "* 2 Data Understanding\n",
    "* 3 Data Preparation\n",
    "* 4 Data Analysis and Modeling\n",
    "* 5 Evaluation and Conclusion\n",
    "\n",
    "Please note that some of the functions and code are taken from the tutorials of the Udacity Data Scientist Nanodegree. While I tried to write as much code as possible myself, I used (both by chance and by intention) some of the functions and code presented in the tutorials. "
   ]
  },
  {
   "cell_type": "markdown",
   "metadata": {},
   "source": [
    "## 1 Business Understanding\n",
    "Following the analysis done as part of the first section of the Udacity Data Scientist Nanodegree, I read the Medium blog post by Josh under https://medium.com/@josh_2774/how-do-you-become-a-developer-5ef1c1c68711. While this post gave some instructions on how to become a developer, I started to wonder how satisfied individuals in this field look like and whether one could provide any guidelines regarding how to become a satisfied developer. To this end, I wanted to explore the characteristics that developers with a high job satisfaction share - it is to be seen whether there are indeed common characteristics - and, secondly, determine whether these factors can be influenced or whether they are mainly set.\n",
    "\n",
    "After reviewing the 2020 Stack Overflow Developer Survey, I determined to answer the following questions: \n",
    "* Do developers with a higher salary demonstrate a higher job satisfaction?\n",
    "* To which extent do the working hours influence job satisfaction?\n",
    "* Do experienced programmers tend to be more satisfied than their less experienced colleagues?\n",
    "* Can we predict the job satisfaction of developers based on their responses regarding their salary, working hours, and experience as part of the 2020 Stack Overflow Developer Survey?\n",
    "\n",
    "The results of the 2020 Stack Overflow Developer Survey can be found under https://insights.stackoverflow.com/survey. After downloading them to my local machine, I have loaded the data into this Jupyter notebook and started with trying to understand the data. This next step is described below.\n"
   ]
  },
  {
   "cell_type": "markdown",
   "metadata": {},
   "source": [
    "## 2 Data Understanding"
   ]
  },
  {
   "cell_type": "code",
   "execution_count": 1,
   "metadata": {},
   "outputs": [
    {
     "data": {
      "text/html": [
       "<div>\n",
       "<style scoped>\n",
       "    .dataframe tbody tr th:only-of-type {\n",
       "        vertical-align: middle;\n",
       "    }\n",
       "\n",
       "    .dataframe tbody tr th {\n",
       "        vertical-align: top;\n",
       "    }\n",
       "\n",
       "    .dataframe thead th {\n",
       "        text-align: right;\n",
       "    }\n",
       "</style>\n",
       "<table border=\"1\" class=\"dataframe\">\n",
       "  <thead>\n",
       "    <tr style=\"text-align: right;\">\n",
       "      <th></th>\n",
       "      <th>Respondent</th>\n",
       "      <th>MainBranch</th>\n",
       "      <th>Hobbyist</th>\n",
       "      <th>Age</th>\n",
       "      <th>Age1stCode</th>\n",
       "      <th>CompFreq</th>\n",
       "      <th>CompTotal</th>\n",
       "      <th>ConvertedComp</th>\n",
       "      <th>Country</th>\n",
       "      <th>CurrencyDesc</th>\n",
       "      <th>...</th>\n",
       "      <th>SurveyEase</th>\n",
       "      <th>SurveyLength</th>\n",
       "      <th>Trans</th>\n",
       "      <th>UndergradMajor</th>\n",
       "      <th>WebframeDesireNextYear</th>\n",
       "      <th>WebframeWorkedWith</th>\n",
       "      <th>WelcomeChange</th>\n",
       "      <th>WorkWeekHrs</th>\n",
       "      <th>YearsCode</th>\n",
       "      <th>YearsCodePro</th>\n",
       "    </tr>\n",
       "  </thead>\n",
       "  <tbody>\n",
       "    <tr>\n",
       "      <th>0</th>\n",
       "      <td>1</td>\n",
       "      <td>I am a developer by profession</td>\n",
       "      <td>Yes</td>\n",
       "      <td>NaN</td>\n",
       "      <td>13</td>\n",
       "      <td>Monthly</td>\n",
       "      <td>NaN</td>\n",
       "      <td>NaN</td>\n",
       "      <td>Germany</td>\n",
       "      <td>European Euro</td>\n",
       "      <td>...</td>\n",
       "      <td>Neither easy nor difficult</td>\n",
       "      <td>Appropriate in length</td>\n",
       "      <td>No</td>\n",
       "      <td>Computer science, computer engineering, or sof...</td>\n",
       "      <td>ASP.NET Core</td>\n",
       "      <td>ASP.NET;ASP.NET Core</td>\n",
       "      <td>Just as welcome now as I felt last year</td>\n",
       "      <td>50.0</td>\n",
       "      <td>36</td>\n",
       "      <td>27</td>\n",
       "    </tr>\n",
       "    <tr>\n",
       "      <th>1</th>\n",
       "      <td>2</td>\n",
       "      <td>I am a developer by profession</td>\n",
       "      <td>No</td>\n",
       "      <td>NaN</td>\n",
       "      <td>19</td>\n",
       "      <td>NaN</td>\n",
       "      <td>NaN</td>\n",
       "      <td>NaN</td>\n",
       "      <td>United Kingdom</td>\n",
       "      <td>Pound sterling</td>\n",
       "      <td>...</td>\n",
       "      <td>NaN</td>\n",
       "      <td>NaN</td>\n",
       "      <td>NaN</td>\n",
       "      <td>Computer science, computer engineering, or sof...</td>\n",
       "      <td>NaN</td>\n",
       "      <td>NaN</td>\n",
       "      <td>Somewhat more welcome now than last year</td>\n",
       "      <td>NaN</td>\n",
       "      <td>7</td>\n",
       "      <td>4</td>\n",
       "    </tr>\n",
       "    <tr>\n",
       "      <th>2</th>\n",
       "      <td>3</td>\n",
       "      <td>I code primarily as a hobby</td>\n",
       "      <td>Yes</td>\n",
       "      <td>NaN</td>\n",
       "      <td>15</td>\n",
       "      <td>NaN</td>\n",
       "      <td>NaN</td>\n",
       "      <td>NaN</td>\n",
       "      <td>Russian Federation</td>\n",
       "      <td>NaN</td>\n",
       "      <td>...</td>\n",
       "      <td>Neither easy nor difficult</td>\n",
       "      <td>Appropriate in length</td>\n",
       "      <td>NaN</td>\n",
       "      <td>NaN</td>\n",
       "      <td>NaN</td>\n",
       "      <td>NaN</td>\n",
       "      <td>Somewhat more welcome now than last year</td>\n",
       "      <td>NaN</td>\n",
       "      <td>4</td>\n",
       "      <td>NaN</td>\n",
       "    </tr>\n",
       "    <tr>\n",
       "      <th>3</th>\n",
       "      <td>4</td>\n",
       "      <td>I am a developer by profession</td>\n",
       "      <td>Yes</td>\n",
       "      <td>25.0</td>\n",
       "      <td>18</td>\n",
       "      <td>NaN</td>\n",
       "      <td>NaN</td>\n",
       "      <td>NaN</td>\n",
       "      <td>Albania</td>\n",
       "      <td>Albanian lek</td>\n",
       "      <td>...</td>\n",
       "      <td>NaN</td>\n",
       "      <td>NaN</td>\n",
       "      <td>No</td>\n",
       "      <td>Computer science, computer engineering, or sof...</td>\n",
       "      <td>NaN</td>\n",
       "      <td>NaN</td>\n",
       "      <td>Somewhat less welcome now than last year</td>\n",
       "      <td>40.0</td>\n",
       "      <td>7</td>\n",
       "      <td>4</td>\n",
       "    </tr>\n",
       "    <tr>\n",
       "      <th>4</th>\n",
       "      <td>5</td>\n",
       "      <td>I used to be a developer by profession, but no...</td>\n",
       "      <td>Yes</td>\n",
       "      <td>31.0</td>\n",
       "      <td>16</td>\n",
       "      <td>NaN</td>\n",
       "      <td>NaN</td>\n",
       "      <td>NaN</td>\n",
       "      <td>United States</td>\n",
       "      <td>NaN</td>\n",
       "      <td>...</td>\n",
       "      <td>Easy</td>\n",
       "      <td>Too short</td>\n",
       "      <td>No</td>\n",
       "      <td>Computer science, computer engineering, or sof...</td>\n",
       "      <td>Django;Ruby on Rails</td>\n",
       "      <td>Ruby on Rails</td>\n",
       "      <td>Just as welcome now as I felt last year</td>\n",
       "      <td>NaN</td>\n",
       "      <td>15</td>\n",
       "      <td>8</td>\n",
       "    </tr>\n",
       "  </tbody>\n",
       "</table>\n",
       "<p>5 rows × 61 columns</p>\n",
       "</div>"
      ],
      "text/plain": [
       "   Respondent                                         MainBranch Hobbyist  \\\n",
       "0           1                     I am a developer by profession      Yes   \n",
       "1           2                     I am a developer by profession       No   \n",
       "2           3                        I code primarily as a hobby      Yes   \n",
       "3           4                     I am a developer by profession      Yes   \n",
       "4           5  I used to be a developer by profession, but no...      Yes   \n",
       "\n",
       "    Age Age1stCode CompFreq  CompTotal  ConvertedComp             Country  \\\n",
       "0   NaN         13  Monthly        NaN            NaN             Germany   \n",
       "1   NaN         19      NaN        NaN            NaN      United Kingdom   \n",
       "2   NaN         15      NaN        NaN            NaN  Russian Federation   \n",
       "3  25.0         18      NaN        NaN            NaN             Albania   \n",
       "4  31.0         16      NaN        NaN            NaN       United States   \n",
       "\n",
       "     CurrencyDesc     ...                       SurveyEase  \\\n",
       "0   European Euro     ...       Neither easy nor difficult   \n",
       "1  Pound sterling     ...                              NaN   \n",
       "2             NaN     ...       Neither easy nor difficult   \n",
       "3    Albanian lek     ...                              NaN   \n",
       "4             NaN     ...                             Easy   \n",
       "\n",
       "            SurveyLength Trans  \\\n",
       "0  Appropriate in length    No   \n",
       "1                    NaN   NaN   \n",
       "2  Appropriate in length   NaN   \n",
       "3                    NaN    No   \n",
       "4              Too short    No   \n",
       "\n",
       "                                      UndergradMajor WebframeDesireNextYear  \\\n",
       "0  Computer science, computer engineering, or sof...           ASP.NET Core   \n",
       "1  Computer science, computer engineering, or sof...                    NaN   \n",
       "2                                                NaN                    NaN   \n",
       "3  Computer science, computer engineering, or sof...                    NaN   \n",
       "4  Computer science, computer engineering, or sof...   Django;Ruby on Rails   \n",
       "\n",
       "     WebframeWorkedWith                             WelcomeChange WorkWeekHrs  \\\n",
       "0  ASP.NET;ASP.NET Core   Just as welcome now as I felt last year        50.0   \n",
       "1                   NaN  Somewhat more welcome now than last year         NaN   \n",
       "2                   NaN  Somewhat more welcome now than last year         NaN   \n",
       "3                   NaN  Somewhat less welcome now than last year        40.0   \n",
       "4         Ruby on Rails   Just as welcome now as I felt last year         NaN   \n",
       "\n",
       "  YearsCode YearsCodePro  \n",
       "0        36           27  \n",
       "1         7            4  \n",
       "2         4          NaN  \n",
       "3         7            4  \n",
       "4        15            8  \n",
       "\n",
       "[5 rows x 61 columns]"
      ]
     },
     "execution_count": 1,
     "metadata": {},
     "output_type": "execute_result"
    }
   ],
   "source": [
    "# Loading required libraries\n",
    "import numpy as np\n",
    "import pandas as pd\n",
    "import matplotlib.pyplot as plt\n",
    "import seaborn as sns\n",
    "%matplotlib inline\n",
    "\n",
    "df = pd.read_csv('./survey_results_public.csv') # Load data frame containing survey responses\n",
    "schema = pd.read_csv('./survey_results_schema.csv') # Load data frame containing descriptions of the survey questions\n",
    "df.head()"
   ]
  },
  {
   "cell_type": "code",
   "execution_count": 2,
   "metadata": {},
   "outputs": [
    {
     "data": {
      "text/plain": [
       "(64461, 61)"
      ]
     },
     "execution_count": 2,
     "metadata": {},
     "output_type": "execute_result"
    }
   ],
   "source": [
    "df.shape # Number of rows and columns"
   ]
  },
  {
   "cell_type": "markdown",
   "metadata": {},
   "source": [
    "We can see that each survey response corresponds to one row and each column to one question.\n",
    "In total, we can see 64,461 people that took part in the survey and answered 60 questions (61 columns; 1st column only represents the respondent ID).\n",
    "As not all column names are self-explanatory, we can rely on the survey schema that was also provided under https://insights.stackoverflow.com/survey. This schema specifies for each column the exact question that had been raised. We will rely on this information later on to get more transparency on the columns of interest."
   ]
  },
  {
   "cell_type": "code",
   "execution_count": 3,
   "metadata": {},
   "outputs": [
    {
     "name": "stdout",
     "output_type": "stream",
     "text": [
      "<class 'pandas.core.frame.DataFrame'>\n",
      "RangeIndex: 64461 entries, 0 to 64460\n",
      "Data columns (total 61 columns):\n",
      "Respondent                      64461 non-null int64\n",
      "MainBranch                      64162 non-null object\n",
      "Hobbyist                        64416 non-null object\n",
      "Age                             45446 non-null float64\n",
      "Age1stCode                      57900 non-null object\n",
      "CompFreq                        40069 non-null object\n",
      "CompTotal                       34826 non-null float64\n",
      "ConvertedComp                   34756 non-null float64\n",
      "Country                         64072 non-null object\n",
      "CurrencyDesc                    45472 non-null object\n",
      "CurrencySymbol                  45472 non-null object\n",
      "DatabaseDesireNextYear          44070 non-null object\n",
      "DatabaseWorkedWith              49537 non-null object\n",
      "DevType                         49370 non-null object\n",
      "EdLevel                         57431 non-null object\n",
      "Employment                      63854 non-null object\n",
      "Ethnicity                       45948 non-null object\n",
      "Gender                          50557 non-null object\n",
      "JobFactors                      49349 non-null object\n",
      "JobSat                          45194 non-null object\n",
      "JobSeek                         51727 non-null object\n",
      "LanguageDesireNextYear          54113 non-null object\n",
      "LanguageWorkedWith              57378 non-null object\n",
      "MiscTechDesireNextYear          42379 non-null object\n",
      "MiscTechWorkedWith              40314 non-null object\n",
      "NEWCollabToolsDesireNextYear    47287 non-null object\n",
      "NEWCollabToolsWorkedWith        52883 non-null object\n",
      "NEWDevOps                       42686 non-null object\n",
      "NEWDevOpsImpt                   41732 non-null object\n",
      "NEWEdImpt                       48465 non-null object\n",
      "NEWJobHunt                      42286 non-null object\n",
      "NEWJobHuntResearch              41022 non-null object\n",
      "NEWLearn                        56156 non-null object\n",
      "NEWOffTopic                     50804 non-null object\n",
      "NEWOnboardGood                  42623 non-null object\n",
      "NEWOtherComms                   57205 non-null object\n",
      "NEWOvertime                     43231 non-null object\n",
      "NEWPurchaseResearch             37321 non-null object\n",
      "NEWPurpleLink                   54803 non-null object\n",
      "NEWSOSites                      58275 non-null object\n",
      "NEWStuck                        54983 non-null object\n",
      "OpSys                           56228 non-null object\n",
      "OrgSize                         44334 non-null object\n",
      "PlatformDesireNextYear          50605 non-null object\n",
      "PlatformWorkedWith              53843 non-null object\n",
      "PurchaseWhat                    39364 non-null object\n",
      "Sexuality                       43992 non-null object\n",
      "SOAccount                       56805 non-null object\n",
      "SOComm                          56476 non-null object\n",
      "SOPartFreq                      46792 non-null object\n",
      "SOVisitFreq                     56970 non-null object\n",
      "SurveyEase                      51802 non-null object\n",
      "SurveyLength                    51701 non-null object\n",
      "Trans                           49345 non-null object\n",
      "UndergradMajor                  50995 non-null object\n",
      "WebframeDesireNextYear          40024 non-null object\n",
      "WebframeWorkedWith              42279 non-null object\n",
      "WelcomeChange                   52683 non-null object\n",
      "WorkWeekHrs                     41151 non-null float64\n",
      "YearsCode                       57684 non-null object\n",
      "YearsCodePro                    46349 non-null object\n",
      "dtypes: float64(4), int64(1), object(56)\n",
      "memory usage: 30.0+ MB\n"
     ]
    }
   ],
   "source": [
    "df.info() # Checking data types and number of responses per column"
   ]
  },
  {
   "cell_type": "markdown",
   "metadata": {},
   "source": [
    "We can see that the vast majority of responses represent categorical variables. Also, not all respondents answered all questions. Our main variable of interest, job satisfaction, was only answered by 45,194 respondents."
   ]
  },
  {
   "cell_type": "code",
   "execution_count": 4,
   "metadata": {},
   "outputs": [
    {
     "data": {
      "text/plain": [
       "70.0"
      ]
     },
     "execution_count": 4,
     "metadata": {},
     "output_type": "execute_result"
    }
   ],
   "source": [
    "100- round(df['JobSat'].isnull().sum()/len(df),2)*100 # Share of respondents who answered the question regarding job satisfaction"
   ]
  },
  {
   "cell_type": "markdown",
   "metadata": {},
   "source": [
    "Around 70% of the respondents addressed the question regarding their job satisfaction. As the share of non-respondents is relatively large, this gives us a first indication that we probably should not simply discard these records. Instead, we should treat them as a separate group and see whether we can identify any patterns for them."
   ]
  },
  {
   "cell_type": "code",
   "execution_count": 5,
   "metadata": {},
   "outputs": [
    {
     "data": {
      "text/html": [
       "<div>\n",
       "<style scoped>\n",
       "    .dataframe tbody tr th:only-of-type {\n",
       "        vertical-align: middle;\n",
       "    }\n",
       "\n",
       "    .dataframe tbody tr th {\n",
       "        vertical-align: top;\n",
       "    }\n",
       "\n",
       "    .dataframe thead th {\n",
       "        text-align: right;\n",
       "    }\n",
       "</style>\n",
       "<table border=\"1\" class=\"dataframe\">\n",
       "  <thead>\n",
       "    <tr style=\"text-align: right;\">\n",
       "      <th></th>\n",
       "      <th>Respondent</th>\n",
       "      <th>Age</th>\n",
       "      <th>CompTotal</th>\n",
       "      <th>ConvertedComp</th>\n",
       "      <th>WorkWeekHrs</th>\n",
       "    </tr>\n",
       "  </thead>\n",
       "  <tbody>\n",
       "    <tr>\n",
       "      <th>count</th>\n",
       "      <td>64461.000000</td>\n",
       "      <td>45446.000000</td>\n",
       "      <td>3.482600e+04</td>\n",
       "      <td>3.475600e+04</td>\n",
       "      <td>41151.000000</td>\n",
       "    </tr>\n",
       "    <tr>\n",
       "      <th>mean</th>\n",
       "      <td>32554.079738</td>\n",
       "      <td>30.834111</td>\n",
       "      <td>3.190464e+242</td>\n",
       "      <td>1.037561e+05</td>\n",
       "      <td>40.782174</td>\n",
       "    </tr>\n",
       "    <tr>\n",
       "      <th>std</th>\n",
       "      <td>18967.442360</td>\n",
       "      <td>9.585392</td>\n",
       "      <td>inf</td>\n",
       "      <td>2.268853e+05</td>\n",
       "      <td>17.816383</td>\n",
       "    </tr>\n",
       "    <tr>\n",
       "      <th>min</th>\n",
       "      <td>1.000000</td>\n",
       "      <td>1.000000</td>\n",
       "      <td>0.000000e+00</td>\n",
       "      <td>0.000000e+00</td>\n",
       "      <td>1.000000</td>\n",
       "    </tr>\n",
       "    <tr>\n",
       "      <th>25%</th>\n",
       "      <td>16116.000000</td>\n",
       "      <td>24.000000</td>\n",
       "      <td>2.000000e+04</td>\n",
       "      <td>2.464800e+04</td>\n",
       "      <td>40.000000</td>\n",
       "    </tr>\n",
       "    <tr>\n",
       "      <th>50%</th>\n",
       "      <td>32231.000000</td>\n",
       "      <td>29.000000</td>\n",
       "      <td>6.300000e+04</td>\n",
       "      <td>5.404900e+04</td>\n",
       "      <td>40.000000</td>\n",
       "    </tr>\n",
       "    <tr>\n",
       "      <th>75%</th>\n",
       "      <td>49142.000000</td>\n",
       "      <td>35.000000</td>\n",
       "      <td>1.250000e+05</td>\n",
       "      <td>9.500000e+04</td>\n",
       "      <td>44.000000</td>\n",
       "    </tr>\n",
       "    <tr>\n",
       "      <th>max</th>\n",
       "      <td>65639.000000</td>\n",
       "      <td>279.000000</td>\n",
       "      <td>1.111111e+247</td>\n",
       "      <td>2.000000e+06</td>\n",
       "      <td>475.000000</td>\n",
       "    </tr>\n",
       "  </tbody>\n",
       "</table>\n",
       "</div>"
      ],
      "text/plain": [
       "         Respondent           Age      CompTotal  ConvertedComp   WorkWeekHrs\n",
       "count  64461.000000  45446.000000   3.482600e+04   3.475600e+04  41151.000000\n",
       "mean   32554.079738     30.834111  3.190464e+242   1.037561e+05     40.782174\n",
       "std    18967.442360      9.585392            inf   2.268853e+05     17.816383\n",
       "min        1.000000      1.000000   0.000000e+00   0.000000e+00      1.000000\n",
       "25%    16116.000000     24.000000   2.000000e+04   2.464800e+04     40.000000\n",
       "50%    32231.000000     29.000000   6.300000e+04   5.404900e+04     40.000000\n",
       "75%    49142.000000     35.000000   1.250000e+05   9.500000e+04     44.000000\n",
       "max    65639.000000    279.000000  1.111111e+247   2.000000e+06    475.000000"
      ]
     },
     "execution_count": 5,
     "metadata": {},
     "output_type": "execute_result"
    }
   ],
   "source": [
    "df.describe() # Checking the numeric variables"
   ]
  },
  {
   "cell_type": "markdown",
   "metadata": {},
   "source": [
    "The description of the numeric data gives us some indication that the data might need some cleaning, e.g., the maximum value of the working hours per week is 475, which is of course not possible. Also, an age of 279 should be questioned."
   ]
  },
  {
   "cell_type": "code",
   "execution_count": 6,
   "metadata": {},
   "outputs": [
    {
     "data": {
      "text/plain": [
       "JobSat           70.0\n",
       "ConvertedComp    54.0\n",
       "WorkWeekHrs      64.0\n",
       "YearsCode        89.0\n",
       "YearsCodePro     72.0\n",
       "dtype: float64"
      ]
     },
     "execution_count": 6,
     "metadata": {},
     "output_type": "execute_result"
    }
   ],
   "source": [
    "# Let's check out the variables of interest\n",
    "# # Share of respondents who answered the question regarding job satisfaction, compensation, working hours and coding experience\n",
    "100- round(df[['JobSat', 'ConvertedComp','WorkWeekHrs', 'YearsCode', 'YearsCodePro']].isnull().sum()/len(df),2)*100"
   ]
  },
  {
   "cell_type": "markdown",
   "metadata": {},
   "source": [
    "We can see that respondents were most silent regarding their salary. On the other hand, 89% specified their coding experience."
   ]
  },
  {
   "cell_type": "code",
   "execution_count": 7,
   "metadata": {},
   "outputs": [],
   "source": [
    "# Specify our variables of interest to select them easily\n",
    "vars_of_interest = ['JobSat', 'ConvertedComp','WorkWeekHrs', 'YearsCode', 'YearsCodePro']"
   ]
  },
  {
   "cell_type": "code",
   "execution_count": 8,
   "metadata": {},
   "outputs": [
    {
     "data": {
      "image/png": "[encoded data removed]",
      "text/plain": [
       "<matplotlib.figure.Figure at 0x7fa1276f2d68>"
      ]
     },
     "metadata": {
      "needs_background": "light"
     },
     "output_type": "display_data"
    }
   ],
   "source": [
    "sns.heatmap(df[vars_of_interest].corr(), annot=True, fmt=\".2f\"); # Check correlations\n",
    "# We can only see that a higher salary is slightly correlated with longer working hours."
   ]
  },
  {
   "cell_type": "code",
   "execution_count": 9,
   "metadata": {},
   "outputs": [],
   "source": [
    "def create_bar_charts(df,survey_question):\n",
    "    '''\n",
    "    INPUT - df - pandas dataframe that contains our survey data\n",
    "            survey_question - the survey question of interest for which we want to examine the value distribution\n",
    "            should be used for categorical variables\n",
    "    OUTPUT - \n",
    "            Plot of the value distribution of the survey question of interest\n",
    "    '''\n",
    "\n",
    "    df[survey_question].value_counts().plot(kind='bar', color = 'darkcyan')\n",
    "    plt.title(\"Value Distribution of Survey Question - \" + survey_question)\n"
   ]
  },
  {
   "cell_type": "code",
   "execution_count": 10,
   "metadata": {},
   "outputs": [
    {
     "data": {
      "image/png": "[encoded data removed]",
      "text/plain": [
       "<matplotlib.figure.Figure at 0x7fa126ec5630>"
      ]
     },
     "metadata": {
      "needs_background": "light"
     },
     "output_type": "display_data"
    }
   ],
   "source": [
    "create_bar_charts(df,'JobSat') # Value Distribution of Job Satisfaction"
   ]
  },
  {
   "cell_type": "markdown",
   "metadata": {},
   "source": [
    "In general, developers seem to be mostly satisfied with their job. Indeed, we can see that the majority of them consider themselves very satisfied."
   ]
  },
  {
   "cell_type": "markdown",
   "metadata": {},
   "source": [
    "Regarding the years of coding experience, we have two potential columns that might be relevant. Let's check out the difference between them."
   ]
  },
  {
   "cell_type": "code",
   "execution_count": 11,
   "metadata": {},
   "outputs": [],
   "source": [
    "# Please note that this function was adopted from a tutorial from the Udacity Data Scientist Nanodegree\n",
    "def get_description(schema, column_name):\n",
    "    '''\n",
    "    INPUT - schema - pandas dataframe with the schema of the developers survey\n",
    "            column_name - string - the name of the column you would like to know about\n",
    "    OUTPUT - \n",
    "            desc - string - the description of the column\n",
    "    '''\n",
    "    desc = list(schema[schema['Column'] == column_name]['QuestionText'])[0]\n",
    "    return desc"
   ]
  },
  {
   "cell_type": "code",
   "execution_count": 12,
   "metadata": {},
   "outputs": [
    {
     "data": {
      "text/plain": [
       "'Including any education, how many years have you been coding in total?'"
      ]
     },
     "execution_count": 12,
     "metadata": {},
     "output_type": "execute_result"
    }
   ],
   "source": [
    "get_description(schema, 'YearsCode')"
   ]
  },
  {
   "cell_type": "code",
   "execution_count": 13,
   "metadata": {},
   "outputs": [
    {
     "data": {
      "text/plain": [
       "'NOT including education, how many years have you coded professionally (as a part of your work)?'"
      ]
     },
     "execution_count": 13,
     "metadata": {},
     "output_type": "execute_result"
    }
   ],
   "source": [
    "get_description(schema, 'YearsCodePro')"
   ]
  },
  {
   "cell_type": "markdown",
   "metadata": {},
   "source": [
    "We can see that the first column specifies the number of years of coding experience, while the second one also specifies this value but includes the number of years spent on coding during education."
   ]
  },
  {
   "cell_type": "code",
   "execution_count": 14,
   "metadata": {},
   "outputs": [
    {
     "data": {
      "image/png": "[encoded data removed]",
      "text/plain": [
       "<matplotlib.figure.Figure at 0x7fa132be6cf8>"
      ]
     },
     "metadata": {
      "needs_background": "light"
     },
     "output_type": "display_data"
    }
   ],
   "source": [
    "create_bar_charts(df,'YearsCode') # Years of Coding Experience"
   ]
  },
  {
   "cell_type": "code",
   "execution_count": 15,
   "metadata": {},
   "outputs": [
    {
     "data": {
      "image/png": "[encoded data removed]",
      "text/plain": [
       "<matplotlib.figure.Figure at 0x7fa126ce3860>"
      ]
     },
     "metadata": {
      "needs_background": "light"
     },
     "output_type": "display_data"
    }
   ],
   "source": [
    "create_bar_charts(df,'YearsCode') # Years of Coding Experience without Education"
   ]
  },
  {
   "cell_type": "markdown",
   "metadata": {},
   "source": [
    "These bar charts are really hard to read. It might make sense to transform them into numeric values."
   ]
  },
  {
   "cell_type": "code",
   "execution_count": 16,
   "metadata": {},
   "outputs": [],
   "source": [
    "def create_histogram(df,survey_question, bin_size, max_value):\n",
    "    '''\n",
    "    INPUT - df - pandas dataframe that contains our survey data\n",
    "            survey_question - the survey question of interest for which we want to examine the value distribution\n",
    "            bin_size - desired size of each bin in the histogram\n",
    "            max_value - maximum value to be displayed on the x-axis to make the chart more readable\n",
    "            should be used for numeric variables\n",
    "    OUTPUT - \n",
    "            Plot of the histogram of the survey question of interest\n",
    "    '''\n",
    "\n",
    "    df[survey_question].plot(kind='hist', color = 'darkcyan', bins = range(min(df[survey_question].fillna(-1).astype(int)), max(df[survey_question].fillna(-1).astype(int)) + bin_size, bin_size))\n",
    "    plt.xlim(-1,max_value)\n",
    "    plt.title(\"Value Distribution of Survey Question - \" + survey_question)\n"
   ]
  },
  {
   "cell_type": "code",
   "execution_count": 17,
   "metadata": {},
   "outputs": [
    {
     "data": {
      "image/png": "[encoded data removed]",
      "text/plain": [
       "<matplotlib.figure.Figure at 0x7fa126b6f6a0>"
      ]
     },
     "metadata": {
      "needs_background": "light"
     },
     "output_type": "display_data"
    }
   ],
   "source": [
    "create_histogram(df,'ConvertedComp', bin_size = 10000, max_value = 500000)"
   ]
  },
  {
   "cell_type": "code",
   "execution_count": 18,
   "metadata": {},
   "outputs": [
    {
     "data": {
      "text/plain": [
       "1226"
      ]
     },
     "execution_count": 18,
     "metadata": {},
     "output_type": "execute_result"
    }
   ],
   "source": [
    "len(df[df['ConvertedComp']> 500000]) # Number of discarded outliers in the above histogram"
   ]
  },
  {
   "cell_type": "markdown",
   "metadata": {},
   "source": [
    "The salary of the developers seems to resemble a right-skewed distribution. The vast majority of them earns up to 100,000 USD. However, we can also see a significant number of people earning more than 100,000 USD. People earning more than 500,000 USD are extremely rare (1,226)."
   ]
  },
  {
   "cell_type": "code",
   "execution_count": 19,
   "metadata": {},
   "outputs": [
    {
     "data": {
      "image/png": "[encoded data removed]",
      "text/plain": [
       "<matplotlib.figure.Figure at 0x7fa126cd7f98>"
      ]
     },
     "metadata": {
      "needs_background": "light"
     },
     "output_type": "display_data"
    }
   ],
   "source": [
    "create_histogram(df,'WorkWeekHrs', bin_size = 5, max_value = 100)"
   ]
  },
  {
   "cell_type": "code",
   "execution_count": 20,
   "metadata": {},
   "outputs": [
    {
     "data": {
      "text/plain": [
       "185"
      ]
     },
     "execution_count": 20,
     "metadata": {},
     "output_type": "execute_result"
    }
   ],
   "source": [
    "len(df[df['WorkWeekHrs']> 100]) # Number of discarded outliers in the above histogram"
   ]
  },
  {
   "cell_type": "code",
   "execution_count": 21,
   "metadata": {},
   "outputs": [
    {
     "data": {
      "text/plain": [
       "41.0"
      ]
     },
     "execution_count": 21,
     "metadata": {},
     "output_type": "execute_result"
    }
   ],
   "source": [
    "round(df['WorkWeekHrs'].mean(),0) # Mean working hours per week"
   ]
  },
  {
   "cell_type": "markdown",
   "metadata": {},
   "source": [
    "The weekly working hours of the developers seems to follow a symmetric distribution around the mean of around 41 working hours per week. The histogram highlights a significant number of people with a small number of working hours (< 15 hours). They could represent part-time developers."
   ]
  },
  {
   "cell_type": "markdown",
   "metadata": {},
   "source": [
    "### Initial Observations\n",
    "The initial analysis revealed that not all respondents answered our questions of interest. More specifically, we can see that the response rate varies from 54% to 89%. As a significant share of respondents did not answer specific questions, we should not simply discard these records. Instead, it might make sense to impute them (e.g., with the mean or mode) or mark them with a special value to identify them as a group. We can then check whether keeping these records provides any value (e.g., because these people that have not answered one question might have answered the remaining questions) or whether we can discard them.\n",
    "\n",
    "Furthermore, the analysis revealed that our analysis could also benefit from some data transformations, e.g., converting the variable on the years of work experience into a numeric variable.\n",
    "With these observations in mind, we will now start the process of preparing the data."
   ]
  },
  {
   "cell_type": "markdown",
   "metadata": {},
   "source": [
    "## 3 Data Preparation"
   ]
  },
  {
   "cell_type": "markdown",
   "metadata": {},
   "source": [
    "As discussed in the Data Understanding section, all columns of interest seem to contain a significant number of NAs. Therefore, dropping these records would reduce the size of the data set tremendously. To avoid this, the missing values will instead be imputed with a value that differentiates them from the rest. As for each column a large number of values are missing, this method is chosen instead of imputing them with the mean or mode. Otherwise, it would be hard to differentiate this large group of records from the other records.\n",
    "\n",
    "As a second step, this section will take care of outliers and transform them. While these transformations then reduce the information value (by assigning lower values to the outliers), they will make the charts in the analysis part more readable. Also, as it has been touched by the previous section, only a small number of outliers will be affected by these transformations.\n",
    "\n",
    "Thirdly, the data types of some of the columns will be transformed to facilitate their handling.\n",
    "\n",
    "Lastly, we will create a binary column JobSatBinary that specifies whether someone is satisfied with their job (1) or not (0). We will use this variable as the dependent variable for the machine learning part."
   ]
  },
  {
   "cell_type": "markdown",
   "metadata": {},
   "source": [
    "### YearsCode and YearsCodePro"
   ]
  },
  {
   "cell_type": "code",
   "execution_count": 22,
   "metadata": {},
   "outputs": [
    {
     "data": {
      "text/plain": [
       "6777"
      ]
     },
     "execution_count": 22,
     "metadata": {},
     "output_type": "execute_result"
    }
   ],
   "source": [
    "df['YearsCode'].isna().sum() # 6,777 NAs"
   ]
  },
  {
   "cell_type": "code",
   "execution_count": 23,
   "metadata": {},
   "outputs": [],
   "source": [
    "df['YearsCode'].fillna(-1, inplace = True) # Specify NAs with '-1' as value"
   ]
  },
  {
   "cell_type": "markdown",
   "metadata": {},
   "source": [
    "To convert the column into a column of type integer, we need to transform the two values 'Less than 1 year' and 'More than 50 years'. To this end, we will transform the former into '0' and the latter into '50' (adding these values to the existing '50'). Only a relatively small number of people is affected by this transformation. However, we need to ensure to be transparent about this transformation."
   ]
  },
  {
   "cell_type": "code",
   "execution_count": 24,
   "metadata": {},
   "outputs": [
    {
     "name": "stderr",
     "output_type": "stream",
     "text": [
      "/opt/conda/lib/python3.6/site-packages/pandas/core/indexing.py:189: SettingWithCopyWarning: \n",
      "A value is trying to be set on a copy of a slice from a DataFrame\n",
      "\n",
      "See the caveats in the documentation: http://pandas.pydata.org/pandas-docs/stable/indexing.html#indexing-view-versus-copy\n",
      "  self._setitem_with_indexer(indexer, value)\n"
     ]
    }
   ],
   "source": [
    "df['YearsCode'].loc[(df['YearsCode'] == 'Less than 1 year')] = 0\n",
    "df['YearsCode'].loc[(df['YearsCode'] == 'More than 50 years')] = 50"
   ]
  },
  {
   "cell_type": "code",
   "execution_count": 25,
   "metadata": {},
   "outputs": [
    {
     "data": {
      "text/plain": [
       "-1    6777\n",
       "10    4510\n",
       "5     4249\n",
       "6     3834\n",
       "7     3477\n",
       "8     3407\n",
       "4     3254\n",
       "3     2951\n",
       "15    2586\n",
       "20    2562\n",
       "12    2453\n",
       "9     2344\n",
       "2     1916\n",
       "11    1691\n",
       "14    1479\n",
       "13    1468\n",
       "25    1338\n",
       "16    1203\n",
       "30    1114\n",
       "18    1089\n",
       "17    1057\n",
       "1      902\n",
       "22     792\n",
       "0      757\n",
       "19     657\n",
       "35     599\n",
       "23     572\n",
       "21     550\n",
       "40     535\n",
       "24     449\n",
       "26     378\n",
       "27     335\n",
       "28     314\n",
       "32     309\n",
       "38     289\n",
       "37     258\n",
       "36     246\n",
       "33     236\n",
       "34     230\n",
       "29     178\n",
       "39     155\n",
       "31     154\n",
       "50     143\n",
       "42     127\n",
       "45     108\n",
       "41      99\n",
       "43      92\n",
       "44      69\n",
       "46      44\n",
       "50      42\n",
       "48      35\n",
       "47      27\n",
       "49      21\n",
       "Name: YearsCode, dtype: int64"
      ]
     },
     "execution_count": 25,
     "metadata": {},
     "output_type": "execute_result"
    }
   ],
   "source": [
    "df['YearsCode'].value_counts() # Check results"
   ]
  },
  {
   "cell_type": "code",
   "execution_count": 26,
   "metadata": {},
   "outputs": [],
   "source": [
    "df['YearsCode'] = df['YearsCode'].astype(int)"
   ]
  },
  {
   "cell_type": "code",
   "execution_count": 27,
   "metadata": {},
   "outputs": [
    {
     "name": "stdout",
     "output_type": "stream",
     "text": [
      "<class 'pandas.core.frame.DataFrame'>\n",
      "RangeIndex: 64461 entries, 0 to 64460\n",
      "Data columns (total 61 columns):\n",
      "Respondent                      64461 non-null int64\n",
      "MainBranch                      64162 non-null object\n",
      "Hobbyist                        64416 non-null object\n",
      "Age                             45446 non-null float64\n",
      "Age1stCode                      57900 non-null object\n",
      "CompFreq                        40069 non-null object\n",
      "CompTotal                       34826 non-null float64\n",
      "ConvertedComp                   34756 non-null float64\n",
      "Country                         64072 non-null object\n",
      "CurrencyDesc                    45472 non-null object\n",
      "CurrencySymbol                  45472 non-null object\n",
      "DatabaseDesireNextYear          44070 non-null object\n",
      "DatabaseWorkedWith              49537 non-null object\n",
      "DevType                         49370 non-null object\n",
      "EdLevel                         57431 non-null object\n",
      "Employment                      63854 non-null object\n",
      "Ethnicity                       45948 non-null object\n",
      "Gender                          50557 non-null object\n",
      "JobFactors                      49349 non-null object\n",
      "JobSat                          45194 non-null object\n",
      "JobSeek                         51727 non-null object\n",
      "LanguageDesireNextYear          54113 non-null object\n",
      "LanguageWorkedWith              57378 non-null object\n",
      "MiscTechDesireNextYear          42379 non-null object\n",
      "MiscTechWorkedWith              40314 non-null object\n",
      "NEWCollabToolsDesireNextYear    47287 non-null object\n",
      "NEWCollabToolsWorkedWith        52883 non-null object\n",
      "NEWDevOps                       42686 non-null object\n",
      "NEWDevOpsImpt                   41732 non-null object\n",
      "NEWEdImpt                       48465 non-null object\n",
      "NEWJobHunt                      42286 non-null object\n",
      "NEWJobHuntResearch              41022 non-null object\n",
      "NEWLearn                        56156 non-null object\n",
      "NEWOffTopic                     50804 non-null object\n",
      "NEWOnboardGood                  42623 non-null object\n",
      "NEWOtherComms                   57205 non-null object\n",
      "NEWOvertime                     43231 non-null object\n",
      "NEWPurchaseResearch             37321 non-null object\n",
      "NEWPurpleLink                   54803 non-null object\n",
      "NEWSOSites                      58275 non-null object\n",
      "NEWStuck                        54983 non-null object\n",
      "OpSys                           56228 non-null object\n",
      "OrgSize                         44334 non-null object\n",
      "PlatformDesireNextYear          50605 non-null object\n",
      "PlatformWorkedWith              53843 non-null object\n",
      "PurchaseWhat                    39364 non-null object\n",
      "Sexuality                       43992 non-null object\n",
      "SOAccount                       56805 non-null object\n",
      "SOComm                          56476 non-null object\n",
      "SOPartFreq                      46792 non-null object\n",
      "SOVisitFreq                     56970 non-null object\n",
      "SurveyEase                      51802 non-null object\n",
      "SurveyLength                    51701 non-null object\n",
      "Trans                           49345 non-null object\n",
      "UndergradMajor                  50995 non-null object\n",
      "WebframeDesireNextYear          40024 non-null object\n",
      "WebframeWorkedWith              42279 non-null object\n",
      "WelcomeChange                   52683 non-null object\n",
      "WorkWeekHrs                     41151 non-null float64\n",
      "YearsCode                       64461 non-null int64\n",
      "YearsCodePro                    46349 non-null object\n",
      "dtypes: float64(4), int64(2), object(55)\n",
      "memory usage: 30.0+ MB\n"
     ]
    }
   ],
   "source": [
    "df.info() # Check data type of 'YearsCode'"
   ]
  },
  {
   "cell_type": "code",
   "execution_count": 28,
   "metadata": {},
   "outputs": [
    {
     "data": {
      "text/plain": [
       "18112"
      ]
     },
     "execution_count": 28,
     "metadata": {},
     "output_type": "execute_result"
    }
   ],
   "source": [
    "df['YearsCodePro'].isna().sum() # 18,112 NAs"
   ]
  },
  {
   "cell_type": "code",
   "execution_count": 29,
   "metadata": {},
   "outputs": [
    {
     "name": "stderr",
     "output_type": "stream",
     "text": [
      "/opt/conda/lib/python3.6/site-packages/pandas/core/indexing.py:189: SettingWithCopyWarning: \n",
      "A value is trying to be set on a copy of a slice from a DataFrame\n",
      "\n",
      "See the caveats in the documentation: http://pandas.pydata.org/pandas-docs/stable/indexing.html#indexing-view-versus-copy\n",
      "  self._setitem_with_indexer(indexer, value)\n"
     ]
    }
   ],
   "source": [
    "df['YearsCodePro'].fillna(-1, inplace = True) # Specify NAs with '-1' as value\n",
    "df['YearsCodePro'].loc[(df['YearsCodePro'] == 'Less than 1 year')] = 0\n",
    "df['YearsCodePro'].loc[(df['YearsCodePro'] == 'More than 50 years')] = 50\n",
    "df['YearsCodePro'] = df['YearsCodePro'].astype(int)"
   ]
  },
  {
   "cell_type": "code",
   "execution_count": 30,
   "metadata": {},
   "outputs": [
    {
     "data": {
      "text/plain": [
       "-1     18112\n",
       " 3      4815\n",
       " 2      4814\n",
       " 5      3978\n",
       " 4      3716\n",
       " 1      2818\n",
       " 6      2741\n",
       " 10     2735\n",
       " 8      2234\n",
       " 7      2229\n",
       " 0      2174\n",
       " 15     1531\n",
       " 12     1460\n",
       " 20     1416\n",
       " 9      1232\n",
       " 11      947\n",
       " 13      904\n",
       " 14      758\n",
       " 16      624\n",
       " 25      583\n",
       " 18      533\n",
       " 17      475\n",
       " 22      444\n",
       " 19      373\n",
       " 30      370\n",
       " 21      341\n",
       " 23      321\n",
       " 24      259\n",
       " 26      180\n",
       " 35      162\n",
       " 27      149\n",
       " 28      128\n",
       " 32      103\n",
       " 40      101\n",
       " 33       93\n",
       " 31       80\n",
       " 34       79\n",
       " 29       72\n",
       " 38       64\n",
       " 36       57\n",
       " 37       53\n",
       " 50       47\n",
       " 39       42\n",
       " 42       26\n",
       " 45       21\n",
       " 41       19\n",
       " 44       16\n",
       " 43       15\n",
       " 46        7\n",
       " 47        5\n",
       " 48        4\n",
       " 49        1\n",
       "Name: YearsCodePro, dtype: int64"
      ]
     },
     "execution_count": 30,
     "metadata": {},
     "output_type": "execute_result"
    }
   ],
   "source": [
    "df['YearsCodePro'].value_counts()# Check results"
   ]
  },
  {
   "cell_type": "code",
   "execution_count": 31,
   "metadata": {},
   "outputs": [
    {
     "data": {
      "image/png": "[encoded data removed]",
      "text/plain": [
       "<matplotlib.figure.Figure at 0x7fa1268d4400>"
      ]
     },
     "metadata": {
      "needs_background": "light"
     },
     "output_type": "display_data"
    }
   ],
   "source": [
    "sns.heatmap(df[vars_of_interest].corr(), annot=True, fmt=\".2f\"); # Check correlation between YearCode and YearCodePro"
   ]
  },
  {
   "cell_type": "markdown",
   "metadata": {},
   "source": [
    "The heatmap reveals that YearsCode and YearsCodePro are highly correlated (0.84). Due to this and as YearsCodePro contains a much higher share of NAs, the analysis will concentrate on YearsCode only and will ommit the column YearsCodePro."
   ]
  },
  {
   "cell_type": "markdown",
   "metadata": {},
   "source": [
    "### WorkWeekHrs"
   ]
  },
  {
   "cell_type": "code",
   "execution_count": 32,
   "metadata": {},
   "outputs": [
    {
     "data": {
      "text/plain": [
       "23310"
      ]
     },
     "execution_count": 32,
     "metadata": {},
     "output_type": "execute_result"
    }
   ],
   "source": [
    "df['WorkWeekHrs'].isna().sum() # 23,310 NAs"
   ]
  },
  {
   "cell_type": "code",
   "execution_count": 33,
   "metadata": {},
   "outputs": [
    {
     "name": "stdout",
     "output_type": "stream",
     "text": [
      "<class 'pandas.core.frame.DataFrame'>\n",
      "RangeIndex: 64461 entries, 0 to 64460\n",
      "Data columns (total 1 columns):\n",
      "WorkWeekHrs    41151 non-null float64\n",
      "dtypes: float64(1)\n",
      "memory usage: 503.7 KB\n"
     ]
    }
   ],
   "source": [
    "df[['WorkWeekHrs']].info() # Float data type"
   ]
  },
  {
   "cell_type": "code",
   "execution_count": 34,
   "metadata": {},
   "outputs": [
    {
     "name": "stdout",
     "output_type": "stream",
     "text": [
      "Minimum working hours: 1.0      |  Maximum working hours: 475.0\n"
     ]
    }
   ],
   "source": [
    "# Check out minimum and maximum working hours\n",
    "print('Minimum working hours: ' + str(min(df['WorkWeekHrs'])) + '      |  Maximum working hours: ' + str(max(df['WorkWeekHrs'])))"
   ]
  },
  {
   "cell_type": "code",
   "execution_count": 35,
   "metadata": {},
   "outputs": [
    {
     "data": {
      "text/plain": [
       "185"
      ]
     },
     "execution_count": 35,
     "metadata": {},
     "output_type": "execute_result"
    }
   ],
   "source": [
    "len(df[df['WorkWeekHrs']> 100]) # Outliers/unrealistic values --> 185"
   ]
  },
  {
   "cell_type": "code",
   "execution_count": 36,
   "metadata": {},
   "outputs": [
    {
     "data": {
      "text/plain": [
       "31"
      ]
     },
     "execution_count": 36,
     "metadata": {},
     "output_type": "execute_result"
    }
   ],
   "source": [
    "len(df[df['WorkWeekHrs']== 100])"
   ]
  },
  {
   "cell_type": "markdown",
   "metadata": {},
   "source": [
    "We can see that 185 respondents stated that they were (regularly) working more than 100 hours a week. As these numbers seem to high, we will transform these values and assign them 100 as a value. After this transformation we will have 31 + 185 = 216 records with weekly working hours of 100."
   ]
  },
  {
   "cell_type": "markdown",
   "metadata": {},
   "source": [
    "Intended transformations:\n",
    "* Specify NAs as -1\n",
    "* Specify outliers as 100\n",
    "* Convert data type from float to int"
   ]
  },
  {
   "cell_type": "code",
   "execution_count": 37,
   "metadata": {},
   "outputs": [
    {
     "name": "stderr",
     "output_type": "stream",
     "text": [
      "/opt/conda/lib/python3.6/site-packages/pandas/core/indexing.py:189: SettingWithCopyWarning: \n",
      "A value is trying to be set on a copy of a slice from a DataFrame\n",
      "\n",
      "See the caveats in the documentation: http://pandas.pydata.org/pandas-docs/stable/indexing.html#indexing-view-versus-copy\n",
      "  self._setitem_with_indexer(indexer, value)\n"
     ]
    }
   ],
   "source": [
    "df['WorkWeekHrs'].fillna(-1, inplace = True) # Specify NAs with '-1' as value\n",
    "df['WorkWeekHrs'].loc[(df['WorkWeekHrs'] > 100)] = 100\n",
    "df['WorkWeekHrs'] = df['WorkWeekHrs'].astype(int)"
   ]
  },
  {
   "cell_type": "code",
   "execution_count": 38,
   "metadata": {},
   "outputs": [
    {
     "data": {
      "text/plain": [
       "-1      23310\n",
       " 40     19293\n",
       " 45      3789\n",
       " 50      2748\n",
       " 35      2002\n",
       " 38      1376\n",
       " 37      1355\n",
       " 30      1036\n",
       " 42      1016\n",
       " 60      1010\n",
       " 8        834\n",
       " 48       603\n",
       " 44       486\n",
       " 20       453\n",
       " 36       429\n",
       " 55       382\n",
       " 39       374\n",
       " 9        366\n",
       " 32       349\n",
       " 43       290\n",
       " 25       239\n",
       " 10       227\n",
       " 70       225\n",
       " 100      216\n",
       " 41       199\n",
       " 80       141\n",
       " 46       106\n",
       " 7        105\n",
       " 5         99\n",
       " 24        98\n",
       "        ...  \n",
       " 29         9\n",
       " 19         9\n",
       " 1          8\n",
       " 62         7\n",
       " 2          7\n",
       " 57         7\n",
       " 53         7\n",
       " 31         6\n",
       " 64         6\n",
       " 66         5\n",
       " 96         4\n",
       " 17         4\n",
       " 78         4\n",
       " 77         4\n",
       " 67         3\n",
       " 98         3\n",
       " 59         3\n",
       " 95         3\n",
       " 86         3\n",
       " 68         3\n",
       " 61         2\n",
       " 99         1\n",
       " 93         1\n",
       " 79         1\n",
       " 83         1\n",
       " 73         1\n",
       " 81         1\n",
       " 69         1\n",
       " 87         1\n",
       " 88         1\n",
       "Name: WorkWeekHrs, Length: 92, dtype: int64"
      ]
     },
     "execution_count": 38,
     "metadata": {},
     "output_type": "execute_result"
    }
   ],
   "source": [
    "df['WorkWeekHrs'].value_counts()# Check results"
   ]
  },
  {
   "cell_type": "code",
   "execution_count": 39,
   "metadata": {},
   "outputs": [
    {
     "name": "stdout",
     "output_type": "stream",
     "text": [
      "<class 'pandas.core.frame.DataFrame'>\n",
      "RangeIndex: 64461 entries, 0 to 64460\n",
      "Data columns (total 1 columns):\n",
      "WorkWeekHrs    64461 non-null int64\n",
      "dtypes: int64(1)\n",
      "memory usage: 503.7 KB\n"
     ]
    }
   ],
   "source": [
    "df[['WorkWeekHrs']].info() # Float data type"
   ]
  },
  {
   "cell_type": "markdown",
   "metadata": {},
   "source": [
    "### ConvertedComp"
   ]
  },
  {
   "cell_type": "code",
   "execution_count": 40,
   "metadata": {},
   "outputs": [
    {
     "data": {
      "text/plain": [
       "29705"
      ]
     },
     "execution_count": 40,
     "metadata": {},
     "output_type": "execute_result"
    }
   ],
   "source": [
    "df['ConvertedComp'].isna().sum() # 29,705 NAs"
   ]
  },
  {
   "cell_type": "code",
   "execution_count": 41,
   "metadata": {},
   "outputs": [
    {
     "name": "stdout",
     "output_type": "stream",
     "text": [
      "<class 'pandas.core.frame.DataFrame'>\n",
      "RangeIndex: 64461 entries, 0 to 64460\n",
      "Data columns (total 1 columns):\n",
      "ConvertedComp    34756 non-null float64\n",
      "dtypes: float64(1)\n",
      "memory usage: 503.7 KB\n"
     ]
    }
   ],
   "source": [
    "df[['ConvertedComp']].info() # Float data type"
   ]
  },
  {
   "cell_type": "code",
   "execution_count": 42,
   "metadata": {},
   "outputs": [
    {
     "data": {
      "text/plain": [
       "count    3.475600e+04\n",
       "mean     1.037561e+05\n",
       "std      2.268853e+05\n",
       "min      0.000000e+00\n",
       "25%      2.464800e+04\n",
       "50%      5.404900e+04\n",
       "75%      9.500000e+04\n",
       "max      2.000000e+06\n",
       "Name: ConvertedComp, dtype: float64"
      ]
     },
     "execution_count": 42,
     "metadata": {},
     "output_type": "execute_result"
    }
   ],
   "source": [
    "# Check out minimum and maximum compensation\n",
    "df['ConvertedComp'].describe()"
   ]
  },
  {
   "cell_type": "code",
   "execution_count": 43,
   "metadata": {},
   "outputs": [
    {
     "data": {
      "text/plain": [
       "1226"
      ]
     },
     "execution_count": 43,
     "metadata": {},
     "output_type": "execute_result"
    }
   ],
   "source": [
    "len(df[df['ConvertedComp']> 500000]) # Outliers"
   ]
  },
  {
   "cell_type": "markdown",
   "metadata": {},
   "source": [
    "Intended transformations:\n",
    "* Specify NAs as -1\n",
    "* Specify outliers as 500000\n",
    "* Convert data type from float to int\n",
    "\n",
    "Note that the transformation of these outliers is not due to the assumption of unrealistic values (like for the working hours). Instead, it is used to make the charts more readable."
   ]
  },
  {
   "cell_type": "code",
   "execution_count": 44,
   "metadata": {},
   "outputs": [
    {
     "name": "stderr",
     "output_type": "stream",
     "text": [
      "/opt/conda/lib/python3.6/site-packages/pandas/core/indexing.py:189: SettingWithCopyWarning: \n",
      "A value is trying to be set on a copy of a slice from a DataFrame\n",
      "\n",
      "See the caveats in the documentation: http://pandas.pydata.org/pandas-docs/stable/indexing.html#indexing-view-versus-copy\n",
      "  self._setitem_with_indexer(indexer, value)\n"
     ]
    }
   ],
   "source": [
    "df['ConvertedComp'].fillna(-1, inplace = True) # Specify NAs with '-1' as value\n",
    "df['ConvertedComp'].loc[(df['ConvertedComp'] > 500000)] = 500000\n",
    "df['ConvertedComp'] = df['ConvertedComp'].astype(int)"
   ]
  },
  {
   "cell_type": "code",
   "execution_count": 45,
   "metadata": {},
   "outputs": [
    {
     "name": "stdout",
     "output_type": "stream",
     "text": [
      "<class 'pandas.core.frame.DataFrame'>\n",
      "RangeIndex: 64461 entries, 0 to 64460\n",
      "Data columns (total 61 columns):\n",
      "Respondent                      64461 non-null int64\n",
      "MainBranch                      64162 non-null object\n",
      "Hobbyist                        64416 non-null object\n",
      "Age                             45446 non-null float64\n",
      "Age1stCode                      57900 non-null object\n",
      "CompFreq                        40069 non-null object\n",
      "CompTotal                       34826 non-null float64\n",
      "ConvertedComp                   64461 non-null int64\n",
      "Country                         64072 non-null object\n",
      "CurrencyDesc                    45472 non-null object\n",
      "CurrencySymbol                  45472 non-null object\n",
      "DatabaseDesireNextYear          44070 non-null object\n",
      "DatabaseWorkedWith              49537 non-null object\n",
      "DevType                         49370 non-null object\n",
      "EdLevel                         57431 non-null object\n",
      "Employment                      63854 non-null object\n",
      "Ethnicity                       45948 non-null object\n",
      "Gender                          50557 non-null object\n",
      "JobFactors                      49349 non-null object\n",
      "JobSat                          45194 non-null object\n",
      "JobSeek                         51727 non-null object\n",
      "LanguageDesireNextYear          54113 non-null object\n",
      "LanguageWorkedWith              57378 non-null object\n",
      "MiscTechDesireNextYear          42379 non-null object\n",
      "MiscTechWorkedWith              40314 non-null object\n",
      "NEWCollabToolsDesireNextYear    47287 non-null object\n",
      "NEWCollabToolsWorkedWith        52883 non-null object\n",
      "NEWDevOps                       42686 non-null object\n",
      "NEWDevOpsImpt                   41732 non-null object\n",
      "NEWEdImpt                       48465 non-null object\n",
      "NEWJobHunt                      42286 non-null object\n",
      "NEWJobHuntResearch              41022 non-null object\n",
      "NEWLearn                        56156 non-null object\n",
      "NEWOffTopic                     50804 non-null object\n",
      "NEWOnboardGood                  42623 non-null object\n",
      "NEWOtherComms                   57205 non-null object\n",
      "NEWOvertime                     43231 non-null object\n",
      "NEWPurchaseResearch             37321 non-null object\n",
      "NEWPurpleLink                   54803 non-null object\n",
      "NEWSOSites                      58275 non-null object\n",
      "NEWStuck                        54983 non-null object\n",
      "OpSys                           56228 non-null object\n",
      "OrgSize                         44334 non-null object\n",
      "PlatformDesireNextYear          50605 non-null object\n",
      "PlatformWorkedWith              53843 non-null object\n",
      "PurchaseWhat                    39364 non-null object\n",
      "Sexuality                       43992 non-null object\n",
      "SOAccount                       56805 non-null object\n",
      "SOComm                          56476 non-null object\n",
      "SOPartFreq                      46792 non-null object\n",
      "SOVisitFreq                     56970 non-null object\n",
      "SurveyEase                      51802 non-null object\n",
      "SurveyLength                    51701 non-null object\n",
      "Trans                           49345 non-null object\n",
      "UndergradMajor                  50995 non-null object\n",
      "WebframeDesireNextYear          40024 non-null object\n",
      "WebframeWorkedWith              42279 non-null object\n",
      "WelcomeChange                   52683 non-null object\n",
      "WorkWeekHrs                     64461 non-null int64\n",
      "YearsCode                       64461 non-null int64\n",
      "YearsCodePro                    64461 non-null int64\n",
      "dtypes: float64(2), int64(5), object(54)\n",
      "memory usage: 30.0+ MB\n"
     ]
    }
   ],
   "source": [
    "df.info() # Check results"
   ]
  },
  {
   "cell_type": "code",
   "execution_count": 46,
   "metadata": {},
   "outputs": [
    {
     "data": {
      "text/plain": [
       "count     64461.000000\n",
       "mean      44038.762104\n",
       "std       84584.561970\n",
       "min          -1.000000\n",
       "25%          -1.000000\n",
       "50%        6897.000000\n",
       "75%       58368.000000\n",
       "max      500000.000000\n",
       "Name: ConvertedComp, dtype: float64"
      ]
     },
     "execution_count": 46,
     "metadata": {},
     "output_type": "execute_result"
    }
   ],
   "source": [
    "df['ConvertedComp'].describe() # Check results"
   ]
  },
  {
   "cell_type": "markdown",
   "metadata": {},
   "source": [
    "### JobSat"
   ]
  },
  {
   "cell_type": "code",
   "execution_count": 47,
   "metadata": {},
   "outputs": [
    {
     "data": {
      "text/plain": [
       "19267"
      ]
     },
     "execution_count": 47,
     "metadata": {},
     "output_type": "execute_result"
    }
   ],
   "source": [
    "df['JobSat'].isna().sum() # 19,267 NAs"
   ]
  },
  {
   "cell_type": "markdown",
   "metadata": {},
   "source": [
    "Intended transformations:\n",
    "* Specify NAs as 'Unknown'\n",
    "* Create an additional column JobSatBinary that specifies whether an individual is satisfied or not. This variable can be used for the machine learning part."
   ]
  },
  {
   "cell_type": "code",
   "execution_count": 48,
   "metadata": {},
   "outputs": [],
   "source": [
    "df['JobSat'].fillna('Unknown', inplace = True) # Specify NAs with 'Unknown' as value"
   ]
  },
  {
   "cell_type": "code",
   "execution_count": 49,
   "metadata": {},
   "outputs": [
    {
     "data": {
      "text/plain": [
       "Unknown                               19267\n",
       "Very satisfied                        14611\n",
       "Slightly satisfied                    13930\n",
       "Slightly dissatisfied                  7124\n",
       "Neither satisfied nor dissatisfied     5783\n",
       "Very dissatisfied                      3746\n",
       "Name: JobSat, dtype: int64"
      ]
     },
     "execution_count": 49,
     "metadata": {},
     "output_type": "execute_result"
    }
   ],
   "source": [
    "df['JobSat'].value_counts()"
   ]
  },
  {
   "cell_type": "code",
   "execution_count": 50,
   "metadata": {},
   "outputs": [],
   "source": [
    "def create_binary_job_sat_column(row):\n",
    "    '''\n",
    "    INPUT - row in data frame df that will be checked and then transformed into a value for a new column JobSatBinary\n",
    "    OUTPUT - value 1 or 0 that will be used for the new column JobSatBinary that indicates whether somebody is satisfied (1) or not (0)\n",
    "    '''\n",
    "    if row['JobSat'] == 'Very satisfied':\n",
    "        value = 1\n",
    "    elif row['JobSat'] == 'Slightly satisfied':\n",
    "        value = 1\n",
    "    else:\n",
    "        value = 0\n",
    "    return value"
   ]
  },
  {
   "cell_type": "code",
   "execution_count": 51,
   "metadata": {},
   "outputs": [],
   "source": [
    "df['JobSatBinary'] = df.apply(create_binary_job_sat_column, axis=1) # Apply function to create binary JobSatBinary column"
   ]
  },
  {
   "cell_type": "code",
   "execution_count": 52,
   "metadata": {},
   "outputs": [
    {
     "data": {
      "text/plain": [
       "0    35920\n",
       "1    28541\n",
       "Name: JobSatBinary, dtype: int64"
      ]
     },
     "execution_count": 52,
     "metadata": {},
     "output_type": "execute_result"
    }
   ],
   "source": [
    "df['JobSatBinary'].value_counts() # Check results"
   ]
  },
  {
   "cell_type": "markdown",
   "metadata": {},
   "source": [
    "Please note that this transformation was somewhat inprecise as we assigned the records who did not answer the question regarding job satisfaction a 0, indicating that they were not satisfied. We will later check in detail whether this assignment makes sense or whether we should ommit the records with JobSat = 'Unknown' to prevent distorting the results."
   ]
  },
  {
   "cell_type": "markdown",
   "metadata": {},
   "source": [
    "### Summary\n",
    "As described in the code, the following transformations have been done:\n",
    "* Marking NAs with '-1' or 'Unknown' to prevent discarding them or simply imputing them with the mode or mean. This approach was chosen as each column contains a large number of NAs.\n",
    "* Handling outliers by transforming them into smaller values.\n",
    "* Changing some data types.\n",
    "* Creating a new binary column to indicate the job satisfaction."
   ]
  },
  {
   "cell_type": "markdown",
   "metadata": {},
   "source": [
    "## 4 Data Analysis and Modeling"
   ]
  },
  {
   "cell_type": "markdown",
   "metadata": {},
   "source": [
    "The first three parts of this section are occupied with examining the variables of interest as part of a univariate analysis. 4.4 will then check whether we could use these variables to predict the job satisfaction. This could complement the results from the first three sections to determine to which extent a relation between the salary, the working hours, the work experience and the job satisfaction might exist."
   ]
  },
  {
   "cell_type": "code",
   "execution_count": 53,
   "metadata": {},
   "outputs": [],
   "source": [
    "plt.rcParams['figure.figsize'] = [10, 6] # Adapt default plot size"
   ]
  },
  {
   "cell_type": "markdown",
   "metadata": {},
   "source": [
    "### 4.1 Are Developers with a Higher Salary More Satisfied?"
   ]
  },
  {
   "cell_type": "code",
   "execution_count": 54,
   "metadata": {},
   "outputs": [
    {
     "data": {
      "text/plain": [
       "55"
      ]
     },
     "execution_count": 54,
     "metadata": {},
     "output_type": "execute_result"
    }
   ],
   "source": [
    "len(df.query('JobSat == \"Unknown\" and ConvertedComp >= 0')) # Number of respondents who did not answer the questions on their job satisfaction\n",
    "# but answered the question on their compensation"
   ]
  },
  {
   "cell_type": "markdown",
   "metadata": {},
   "source": [
    "Given this small number of answers (55), we can discard the respondents whose job satisfaction is unknown. This of course contradicts our previous motivation of (initially) keeping the records for whom the job satisfaction is unknown."
   ]
  },
  {
   "cell_type": "code",
   "execution_count": 55,
   "metadata": {},
   "outputs": [],
   "source": [
    "df_comp = df.copy()\n",
    "df_comp = df_comp[df_comp['JobSat'] != 'Unknown'] # Remove records for which the job satisfaction is unknown"
   ]
  },
  {
   "cell_type": "code",
   "execution_count": 56,
   "metadata": {},
   "outputs": [
    {
     "data": {
      "text/plain": [
       "Very satisfied                        14611\n",
       "Slightly satisfied                    13930\n",
       "Slightly dissatisfied                  7124\n",
       "Neither satisfied nor dissatisfied     5783\n",
       "Very dissatisfied                      3746\n",
       "Name: JobSat, dtype: int64"
      ]
     },
     "execution_count": 56,
     "metadata": {},
     "output_type": "execute_result"
    }
   ],
   "source": [
    "df_comp['JobSat'].value_counts() # check value counts"
   ]
  },
  {
   "cell_type": "code",
   "execution_count": 57,
   "metadata": {},
   "outputs": [
    {
     "data": {
      "text/plain": [
       "JobSat\n",
       "Neither satisfied nor dissatisfied    16754\n",
       "Slightly dissatisfied                 33150\n",
       "Slightly satisfied                    35672\n",
       "Very dissatisfied                     28465\n",
       "Very satisfied                        48600\n",
       "Name: ConvertedComp, dtype: int64"
      ]
     },
     "execution_count": 57,
     "metadata": {},
     "output_type": "execute_result"
    }
   ],
   "source": [
    "medians = df_comp.groupby(['JobSat'])['ConvertedComp'].median() # Calculate median values for annotation of boxplot\n",
    "medians"
   ]
  },
  {
   "cell_type": "code",
   "execution_count": 58,
   "metadata": {},
   "outputs": [
    {
     "data": {
      "image/png": "[encoded data removed]",
      "text/plain": [
       "<matplotlib.figure.Figure at 0x7fa126b75d30>"
      ]
     },
     "metadata": {
      "needs_background": "light"
     },
     "output_type": "display_data"
    }
   ],
   "source": [
    "# Create seaborn boxplot\n",
    "box_plot = sns.boxplot(x=\"ConvertedComp\", y=\"JobSat\", data=df_comp, # define data, x- and y-axis\n",
    "                       width = 0.6, # size of each boxplot\n",
    "                       order = ['Very satisfied', 'Slightly satisfied', 'Neither satisfied nor dissatisfied', 'Slightly dissatisfied',\n",
    "                       'Very dissatisfied'], # order of boxplots\n",
    "                       palette = 'Blues', # colour schema\n",
    "                       saturation = 0.7, flierprops = dict(marker='x', markersize=1)) # specify formatting of boxes and outliers\n",
    "# Annotate medians\n",
    "box_plot.annotate(\"$\" + str(medians[4]), xy= (medians[4], -0.4), horizontalalignment='center',  color='black')\n",
    "box_plot.annotate(\"$\" + str(medians[2]), xy= (medians[2], 0.6), horizontalalignment='center',  color='black')\n",
    "box_plot.annotate(\"$\" + str(medians[0]), xy= (medians[0], 1.6), horizontalalignment='center',  color='black')\n",
    "box_plot.annotate(\"$\" + str(medians[1]), xy= (medians[1], 2.6), horizontalalignment='center',  color='black')\n",
    "box_plot.annotate(\"$\" + str(medians[3]), xy= (medians[3], 3.6), horizontalalignment='center',  color='black')\n",
    "# Reduce x-axis length to make the chart more readable\n",
    "plt.xlim(0, 250000)\n",
    "# Format and annotate labels\n",
    "plt.xlabel('Annual Salary in USD', size = 12)\n",
    "plt.ylabel('Job Satisfaction', size = 12)\n",
    "plt.title('Salary and Job Satisfaction', size = 14,fontweight='bold')\n",
    "# Remove axis\n",
    "sns.despine()"
   ]
  },
  {
   "cell_type": "markdown",
   "metadata": {},
   "source": [
    "In general, we can see that a higher salary is correlated with a higher job satisfaction. Interestingly, those respondents who said that they were neither satisfied nor dissatisfied have the lowest salary."
   ]
  },
  {
   "cell_type": "code",
   "execution_count": 59,
   "metadata": {},
   "outputs": [
    {
     "data": {
      "text/plain": [
       "1812"
      ]
     },
     "execution_count": 59,
     "metadata": {},
     "output_type": "execute_result"
    }
   ],
   "source": [
    "len(df_comp[df_comp['ConvertedComp']> 250000]) # Outliers that are not displayed"
   ]
  },
  {
   "cell_type": "markdown",
   "metadata": {},
   "source": [
    "Please note that the chart above has ommitted 1,812 outliers that have a annual salary of more than 250,000 USD. As the cut-off of 250,000 USD is below the 500,000 USD that we specified as the value for the outliers, the transformation in section 3 was not relevant for this chart. "
   ]
  },
  {
   "cell_type": "markdown",
   "metadata": {},
   "source": [
    "### 4.2 Are Longer Working Hours Correlated with a Higher Job Satisfaction?"
   ]
  },
  {
   "cell_type": "code",
   "execution_count": 60,
   "metadata": {},
   "outputs": [
    {
     "data": {
      "text/plain": [
       "94"
      ]
     },
     "execution_count": 60,
     "metadata": {},
     "output_type": "execute_result"
    }
   ],
   "source": [
    "len(df.query('JobSat == \"Unknown\" and WorkWeekHrs >= 0')) # Number of respondents who did not answer the questions on their job satisfaction\n",
    "# but answered the question on their weekly working hours"
   ]
  },
  {
   "cell_type": "markdown",
   "metadata": {},
   "source": [
    "Given this small number of answers (55), we can discard the respondents whose job satisfaction is unknown. This of course contradicts our previous motivation of (initially) keeping the records for whom the job satisfaction is unknown."
   ]
  },
  {
   "cell_type": "code",
   "execution_count": 61,
   "metadata": {},
   "outputs": [],
   "source": [
    "df_work_hours = df.copy()\n",
    "df_work_hours = df_comp[df_comp['JobSat'] != 'Unknown'] # Remove unknown records"
   ]
  },
  {
   "cell_type": "code",
   "execution_count": 62,
   "metadata": {},
   "outputs": [
    {
     "data": {
      "text/plain": [
       "JobSat\n",
       "Neither satisfied nor dissatisfied    40\n",
       "Slightly dissatisfied                 40\n",
       "Slightly satisfied                    40\n",
       "Very dissatisfied                     40\n",
       "Very satisfied                        40\n",
       "Name: WorkWeekHrs, dtype: int64"
      ]
     },
     "execution_count": 62,
     "metadata": {},
     "output_type": "execute_result"
    }
   ],
   "source": [
    "medians = df_work_hours.groupby(['JobSat'])['WorkWeekHrs'].median() # Calculate median values for annotation of boxplot\n",
    "medians"
   ]
  },
  {
   "cell_type": "markdown",
   "metadata": {},
   "source": [
    "We can observe that the median working hours are equal across all categories of job satisfaction."
   ]
  },
  {
   "cell_type": "code",
   "execution_count": 63,
   "metadata": {},
   "outputs": [
    {
     "data": {
      "image/png": "[encoded data removed]",
      "text/plain": [
       "<matplotlib.figure.Figure at 0x7fa126da8320>"
      ]
     },
     "metadata": {
      "needs_background": "light"
     },
     "output_type": "display_data"
    }
   ],
   "source": [
    "# Create seaborn boxplot\n",
    "box_plot = sns.boxplot(x=\"WorkWeekHrs\", y=\"JobSat\",\n",
    "            data=df_work_hours, width = 0.6,\n",
    "           order = ['Very satisfied', 'Slightly satisfied', 'Neither satisfied nor dissatisfied', 'Slightly dissatisfied',\n",
    "           'Very dissatisfied'], palette = 'Blues', saturation = 0.7, flierprops = dict(marker='x', markersize=1))\n",
    "# Annotate medians\n",
    "box_plot.annotate(str(medians[4]), xy= (medians[4], -0.4), horizontalalignment='center',  color='black')\n",
    "box_plot.annotate(str(medians[2]), xy= (medians[2], 0.6), horizontalalignment='center',  color='black')\n",
    "box_plot.annotate(str(medians[0]), xy= (medians[0], 1.6), horizontalalignment='center',  color='black')\n",
    "box_plot.annotate(str(medians[1]), xy= (medians[1], 2.6), horizontalalignment='center',  color='black')\n",
    "box_plot.annotate(str(medians[3]), xy= (medians[3], 3.6), horizontalalignment='center',  color='black')\n",
    "# Format and annotate labels\n",
    "plt.xlabel('Working Hours per Week', size = 12)\n",
    "plt.ylabel('Job Satisfaction', size = 12)\n",
    "plt.title('Working Hours and Job Satisfaction', size = 14,fontweight='bold')\n",
    "# Remove axis\n",
    "sns.despine()"
   ]
  },
  {
   "cell_type": "markdown",
   "metadata": {},
   "source": [
    "In general, we cannot observe an obvious correlation between the working hours and job satisfaction. The median hours worked per week are 40, which is the same value across all categories of job satisfaction. However, we can observe that the spread for developers who are very dissatisfied or answered that they were neither satisfied nor dissatisfied is larger than for the other categories. We can also observe that the boundary for the second quartile (the lower bound of the box) is lower for these two categories. On the other hand, the boundary for the third quartile of those that answered that they were very dissatisfied is slightly higher than for the other categories. This might indicate that some of the very dissatisfied developers could either work not enough or too much (at least in comparison to their preferences)."
   ]
  },
  {
   "cell_type": "code",
   "execution_count": 64,
   "metadata": {},
   "outputs": [
    {
     "data": {
      "text/html": [
       "<div>\n",
       "<style scoped>\n",
       "    .dataframe tbody tr th:only-of-type {\n",
       "        vertical-align: middle;\n",
       "    }\n",
       "\n",
       "    .dataframe tbody tr th {\n",
       "        vertical-align: top;\n",
       "    }\n",
       "\n",
       "    .dataframe thead th {\n",
       "        text-align: right;\n",
       "    }\n",
       "</style>\n",
       "<table border=\"1\" class=\"dataframe\">\n",
       "  <thead>\n",
       "    <tr style=\"text-align: right;\">\n",
       "      <th></th>\n",
       "      <th>count</th>\n",
       "      <th>mean</th>\n",
       "      <th>std</th>\n",
       "      <th>min</th>\n",
       "      <th>25%</th>\n",
       "      <th>50%</th>\n",
       "      <th>75%</th>\n",
       "      <th>max</th>\n",
       "    </tr>\n",
       "    <tr>\n",
       "      <th>JobSat</th>\n",
       "      <th></th>\n",
       "      <th></th>\n",
       "      <th></th>\n",
       "      <th></th>\n",
       "      <th></th>\n",
       "      <th></th>\n",
       "      <th></th>\n",
       "      <th></th>\n",
       "    </tr>\n",
       "  </thead>\n",
       "  <tbody>\n",
       "    <tr>\n",
       "      <th>Neither satisfied nor dissatisfied</th>\n",
       "      <td>5783.0</td>\n",
       "      <td>35.0</td>\n",
       "      <td>18.0</td>\n",
       "      <td>-1.0</td>\n",
       "      <td>35.0</td>\n",
       "      <td>40.0</td>\n",
       "      <td>42.0</td>\n",
       "      <td>100.0</td>\n",
       "    </tr>\n",
       "    <tr>\n",
       "      <th>Slightly dissatisfied</th>\n",
       "      <td>7124.0</td>\n",
       "      <td>37.0</td>\n",
       "      <td>15.0</td>\n",
       "      <td>-1.0</td>\n",
       "      <td>37.0</td>\n",
       "      <td>40.0</td>\n",
       "      <td>42.0</td>\n",
       "      <td>100.0</td>\n",
       "    </tr>\n",
       "    <tr>\n",
       "      <th>Slightly satisfied</th>\n",
       "      <td>13930.0</td>\n",
       "      <td>36.0</td>\n",
       "      <td>15.0</td>\n",
       "      <td>-1.0</td>\n",
       "      <td>37.0</td>\n",
       "      <td>40.0</td>\n",
       "      <td>42.0</td>\n",
       "      <td>100.0</td>\n",
       "    </tr>\n",
       "    <tr>\n",
       "      <th>Very dissatisfied</th>\n",
       "      <td>3746.0</td>\n",
       "      <td>36.0</td>\n",
       "      <td>18.0</td>\n",
       "      <td>-1.0</td>\n",
       "      <td>35.0</td>\n",
       "      <td>40.0</td>\n",
       "      <td>44.0</td>\n",
       "      <td>100.0</td>\n",
       "    </tr>\n",
       "    <tr>\n",
       "      <th>Very satisfied</th>\n",
       "      <td>14611.0</td>\n",
       "      <td>37.0</td>\n",
       "      <td>15.0</td>\n",
       "      <td>-1.0</td>\n",
       "      <td>37.0</td>\n",
       "      <td>40.0</td>\n",
       "      <td>42.0</td>\n",
       "      <td>100.0</td>\n",
       "    </tr>\n",
       "  </tbody>\n",
       "</table>\n",
       "</div>"
      ],
      "text/plain": [
       "                                      count  mean   std  min   25%   50%  \\\n",
       "JobSat                                                                     \n",
       "Neither satisfied nor dissatisfied   5783.0  35.0  18.0 -1.0  35.0  40.0   \n",
       "Slightly dissatisfied                7124.0  37.0  15.0 -1.0  37.0  40.0   \n",
       "Slightly satisfied                  13930.0  36.0  15.0 -1.0  37.0  40.0   \n",
       "Very dissatisfied                    3746.0  36.0  18.0 -1.0  35.0  40.0   \n",
       "Very satisfied                      14611.0  37.0  15.0 -1.0  37.0  40.0   \n",
       "\n",
       "                                     75%    max  \n",
       "JobSat                                           \n",
       "Neither satisfied nor dissatisfied  42.0  100.0  \n",
       "Slightly dissatisfied               42.0  100.0  \n",
       "Slightly satisfied                  42.0  100.0  \n",
       "Very dissatisfied                   44.0  100.0  \n",
       "Very satisfied                      42.0  100.0  "
      ]
     },
     "execution_count": 64,
     "metadata": {},
     "output_type": "execute_result"
    }
   ],
   "source": [
    "df_work_hours.groupby('JobSat')['WorkWeekHrs'].describe().round() # Check descriptive statistics"
   ]
  },
  {
   "cell_type": "markdown",
   "metadata": {},
   "source": [
    "### 4.3 Do experienced programmers tend to be more satisfied than their less experienced colleagues?"
   ]
  },
  {
   "cell_type": "code",
   "execution_count": 65,
   "metadata": {},
   "outputs": [
    {
     "data": {
      "text/plain": [
       "12823"
      ]
     },
     "execution_count": 65,
     "metadata": {},
     "output_type": "execute_result"
    }
   ],
   "source": [
    "len(df.query('JobSat == \"Unknown\" and YearsCode >= 0')) # Number of respondents who did not answer the questions on their job satisfaction\n",
    "# but answered the question on their coding experience"
   ]
  },
  {
   "cell_type": "markdown",
   "metadata": {},
   "source": [
    "As many people who did not respond on their job satisfaction specified their work experience, it makes sense to keep them as we could determine whether this group of people differs from the others in terms of their work experience."
   ]
  },
  {
   "cell_type": "code",
   "execution_count": 66,
   "metadata": {},
   "outputs": [
    {
     "data": {
      "text/plain": [
       "JobSat\n",
       "Neither satisfied nor dissatisfied    10\n",
       "Slightly dissatisfied                 11\n",
       "Slightly satisfied                    11\n",
       "Unknown                                3\n",
       "Very dissatisfied                     12\n",
       "Very satisfied                        12\n",
       "Name: YearsCode, dtype: int64"
      ]
     },
     "execution_count": 66,
     "metadata": {},
     "output_type": "execute_result"
    }
   ],
   "source": [
    "medians = df.groupby(['JobSat'])['YearsCode'].median() # Calculate median values for annotation of boxplot\n",
    "medians"
   ]
  },
  {
   "cell_type": "code",
   "execution_count": 67,
   "metadata": {},
   "outputs": [
    {
     "data": {
      "image/png": "[encoded data removed]",
      "text/plain": [
       "<matplotlib.figure.Figure at 0x7fa126ebe550>"
      ]
     },
     "metadata": {
      "needs_background": "light"
     },
     "output_type": "display_data"
    }
   ],
   "source": [
    "# Create seaborn boxplot\n",
    "box_plot = sns.boxplot(x=\"YearsCode\", y=\"JobSat\",\n",
    "            data=df, width = 0.6,\n",
    "           order = ['Very satisfied', 'Slightly satisfied', 'Neither satisfied nor dissatisfied', 'Slightly dissatisfied',\n",
    "           'Very dissatisfied', 'Unknown'], palette = 'Blues', saturation = 0.7, flierprops = dict(marker='x', markersize=1))\n",
    "# Annotate medians\n",
    "box_plot.annotate(str(medians[5]), xy= (medians[5], -0.4), horizontalalignment='center',  color='black')\n",
    "box_plot.annotate(str(medians[2]), xy= (medians[2], 0.6), horizontalalignment='center',  color='black')\n",
    "box_plot.annotate(str(medians[0]), xy= (medians[0], 1.6), horizontalalignment='center',  color='black')\n",
    "box_plot.annotate(str(medians[1]), xy= (medians[1], 2.6), horizontalalignment='center',  color='black')\n",
    "box_plot.annotate(str(medians[4]), xy= (medians[4], 3.6), horizontalalignment='center',  color='black')\n",
    "box_plot.annotate(str(medians[3]), xy= (medians[3], 4.6), horizontalalignment='center',  color='black')\n",
    "# Format and annotate labels\n",
    "plt.xlabel('Years of Coding Experience', size = 12)\n",
    "plt.ylabel('Job Satisfaction', size = 12)\n",
    "plt.title('Coding Experience and Job Satisfaction', size = 14,fontweight='bold')\n",
    "# Remove axis\n",
    "sns.despine()"
   ]
  },
  {
   "cell_type": "markdown",
   "metadata": {},
   "source": [
    "There is no clear relationship between coding experience and job satisfaction. The medians vary between 10 and 12 for the categories. Only 'Unknown' stands out. Respondents who did not answer their job satisfaction only have 3 years of median coding experience and, therefore, differ significantly from the remaining respondents. However, we should be careful when interpreting this result as we don't know whether they have responded this question truthfully or not. Apart from this, the chart suggests that only a relatively small number of respondents have only a few years of coding experience. Instead, the vast majority of the survey respondents tend to be long-term developers. This might suggest a selection bias of the survey, with mainly experienced developers having taken the survey. "
   ]
  },
  {
   "cell_type": "markdown",
   "metadata": {},
   "source": [
    "### 4.4 Can We Predict Job Satisfaction based on the Salary, Working Hours, and Working Experience?"
   ]
  },
  {
   "cell_type": "markdown",
   "metadata": {},
   "source": [
    "We will try out a logistic regression model (4.4.1), a decision tree (4.4.2) and a random forest (4.4.3). Please note that we restrict these models only to the three variables of interest and disregard other variables. Due to this, we don't expect an excellent performance of the models. Also, we could not derive any causation from potential correlations that we might detect as we of course have many ommitted variables that could cause an ommitted variable bias. The analysis also does not engage in any hyperparameter tuning to improve the results.\n",
    "\n",
    "The idea of this section is to complement the previous analysis and determine whether these variables indeed have a strong relation to job satisfaction or not (which has been so far suggested by the analysis)."
   ]
  },
  {
   "cell_type": "code",
   "execution_count": 68,
   "metadata": {},
   "outputs": [],
   "source": [
    "# Import relevant functions from sklearn\n",
    "from sklearn.model_selection import train_test_split\n",
    "from sklearn.linear_model import LogisticRegression\n",
    "from sklearn.preprocessing import StandardScaler\n",
    "from sklearn.metrics import accuracy_score\n",
    "from sklearn.metrics import confusion_matrix\n",
    "from sklearn import tree\n",
    "from sklearn.ensemble import RandomForestClassifier"
   ]
  },
  {
   "cell_type": "code",
   "execution_count": 69,
   "metadata": {},
   "outputs": [],
   "source": [
    "df_binary = df[df['JobSat'] != 'Unknown'] # Remove entries with JobSat = 'Unknown'; we only want to check out satisfied or unsatisfied respondents"
   ]
  },
  {
   "cell_type": "markdown",
   "metadata": {},
   "source": [
    "As discussed in Section 3, we simply assigned records with an unknown job satisfaction to the value 0 (not satisfied) of the binary column JobSatBinary. As this is of course inaccurate and as the previous section revealed, that the other columns (except for the coding experience) are not filled, it makes much more sense to discard those records."
   ]
  },
  {
   "cell_type": "code",
   "execution_count": 70,
   "metadata": {},
   "outputs": [
    {
     "data": {
      "text/plain": [
       "<matplotlib.axes._subplots.AxesSubplot at 0x7fa126d77390>"
      ]
     },
     "execution_count": 70,
     "metadata": {},
     "output_type": "execute_result"
    },
    {
     "data": {
      "image/png": "[encoded data removed]",
      "text/plain": [
       "<matplotlib.figure.Figure at 0x7fa126781668>"
      ]
     },
     "metadata": {
      "needs_background": "light"
     },
     "output_type": "display_data"
    }
   ],
   "source": [
    "df_binary['JobSatBinary'].value_counts().plot(kind='bar', color = 'darkcyan') # Plot distribution of target variable"
   ]
  },
  {
   "cell_type": "markdown",
   "metadata": {},
   "source": [
    "#### 4.4.1 Logistic Regression"
   ]
  },
  {
   "cell_type": "code",
   "execution_count": 71,
   "metadata": {},
   "outputs": [
    {
     "data": {
      "text/html": [
       "<div>\n",
       "<style scoped>\n",
       "    .dataframe tbody tr th:only-of-type {\n",
       "        vertical-align: middle;\n",
       "    }\n",
       "\n",
       "    .dataframe tbody tr th {\n",
       "        vertical-align: top;\n",
       "    }\n",
       "\n",
       "    .dataframe thead th {\n",
       "        text-align: right;\n",
       "    }\n",
       "</style>\n",
       "<table border=\"1\" class=\"dataframe\">\n",
       "  <thead>\n",
       "    <tr style=\"text-align: right;\">\n",
       "      <th></th>\n",
       "      <th>ConvertedComp</th>\n",
       "      <th>WorkWeekHrs</th>\n",
       "      <th>YearsCode</th>\n",
       "    </tr>\n",
       "  </thead>\n",
       "  <tbody>\n",
       "    <tr>\n",
       "      <th>0</th>\n",
       "      <td>-1</td>\n",
       "      <td>50</td>\n",
       "      <td>36</td>\n",
       "    </tr>\n",
       "    <tr>\n",
       "      <th>1</th>\n",
       "      <td>-1</td>\n",
       "      <td>-1</td>\n",
       "      <td>7</td>\n",
       "    </tr>\n",
       "    <tr>\n",
       "      <th>3</th>\n",
       "      <td>-1</td>\n",
       "      <td>40</td>\n",
       "      <td>7</td>\n",
       "    </tr>\n",
       "    <tr>\n",
       "      <th>5</th>\n",
       "      <td>-1</td>\n",
       "      <td>-1</td>\n",
       "      <td>6</td>\n",
       "    </tr>\n",
       "    <tr>\n",
       "      <th>6</th>\n",
       "      <td>-1</td>\n",
       "      <td>-1</td>\n",
       "      <td>6</td>\n",
       "    </tr>\n",
       "  </tbody>\n",
       "</table>\n",
       "</div>"
      ],
      "text/plain": [
       "   ConvertedComp  WorkWeekHrs  YearsCode\n",
       "0             -1           50         36\n",
       "1             -1           -1          7\n",
       "3             -1           40          7\n",
       "5             -1           -1          6\n",
       "6             -1           -1          6"
      ]
     },
     "execution_count": 71,
     "metadata": {},
     "output_type": "execute_result"
    }
   ],
   "source": [
    "X = df_binary[['ConvertedComp', 'WorkWeekHrs', 'YearsCode']] # Create data frame for explanatory variables\n",
    "X.head()"
   ]
  },
  {
   "cell_type": "code",
   "execution_count": 72,
   "metadata": {},
   "outputs": [
    {
     "data": {
      "text/html": [
       "<div>\n",
       "<style scoped>\n",
       "    .dataframe tbody tr th:only-of-type {\n",
       "        vertical-align: middle;\n",
       "    }\n",
       "\n",
       "    .dataframe tbody tr th {\n",
       "        vertical-align: top;\n",
       "    }\n",
       "\n",
       "    .dataframe thead th {\n",
       "        text-align: right;\n",
       "    }\n",
       "</style>\n",
       "<table border=\"1\" class=\"dataframe\">\n",
       "  <thead>\n",
       "    <tr style=\"text-align: right;\">\n",
       "      <th></th>\n",
       "      <th>JobSatBinary</th>\n",
       "    </tr>\n",
       "  </thead>\n",
       "  <tbody>\n",
       "    <tr>\n",
       "      <th>0</th>\n",
       "      <td>1</td>\n",
       "    </tr>\n",
       "    <tr>\n",
       "      <th>1</th>\n",
       "      <td>0</td>\n",
       "    </tr>\n",
       "    <tr>\n",
       "      <th>3</th>\n",
       "      <td>0</td>\n",
       "    </tr>\n",
       "    <tr>\n",
       "      <th>5</th>\n",
       "      <td>1</td>\n",
       "    </tr>\n",
       "    <tr>\n",
       "      <th>6</th>\n",
       "      <td>1</td>\n",
       "    </tr>\n",
       "  </tbody>\n",
       "</table>\n",
       "</div>"
      ],
      "text/plain": [
       "   JobSatBinary\n",
       "0             1\n",
       "1             0\n",
       "3             0\n",
       "5             1\n",
       "6             1"
      ]
     },
     "execution_count": 72,
     "metadata": {},
     "output_type": "execute_result"
    }
   ],
   "source": [
    "y = df_binary[['JobSatBinary']] # Create data frame for dependent variable\n",
    "y.head()"
   ]
  },
  {
   "cell_type": "code",
   "execution_count": 73,
   "metadata": {},
   "outputs": [
    {
     "name": "stdout",
     "output_type": "stream",
     "text": [
      "<class 'pandas.core.frame.DataFrame'>\n",
      "Int64Index: 45194 entries, 0 to 64154\n",
      "Data columns (total 3 columns):\n",
      "ConvertedComp    45194 non-null int64\n",
      "WorkWeekHrs      45194 non-null int64\n",
      "YearsCode        45194 non-null int64\n",
      "dtypes: int64(3)\n",
      "memory usage: 1.4 MB\n",
      "None\n",
      "<class 'pandas.core.frame.DataFrame'>\n",
      "Int64Index: 45194 entries, 0 to 64154\n",
      "Data columns (total 1 columns):\n",
      "JobSatBinary    45194 non-null int64\n",
      "dtypes: int64(1)\n",
      "memory usage: 706.2 KB\n",
      "None\n"
     ]
    }
   ],
   "source": [
    "print(X.info()) # Check number of values\n",
    "print(y.info()) # Check number of values"
   ]
  },
  {
   "cell_type": "code",
   "execution_count": 74,
   "metadata": {},
   "outputs": [
    {
     "name": "stderr",
     "output_type": "stream",
     "text": [
      "/opt/conda/lib/python3.6/site-packages/sklearn/utils/validation.py:475: DataConversionWarning: Data with input dtype int64 was converted to float64 by StandardScaler.\n",
      "  warnings.warn(msg, DataConversionWarning)\n"
     ]
    },
    {
     "data": {
      "text/html": [
       "<div>\n",
       "<style scoped>\n",
       "    .dataframe tbody tr th:only-of-type {\n",
       "        vertical-align: middle;\n",
       "    }\n",
       "\n",
       "    .dataframe tbody tr th {\n",
       "        vertical-align: top;\n",
       "    }\n",
       "\n",
       "    .dataframe thead th {\n",
       "        text-align: right;\n",
       "    }\n",
       "</style>\n",
       "<table border=\"1\" class=\"dataframe\">\n",
       "  <thead>\n",
       "    <tr style=\"text-align: right;\">\n",
       "      <th></th>\n",
       "      <th>ConvertedComp</th>\n",
       "      <th>WorkWeekHrs</th>\n",
       "      <th>YearsCode</th>\n",
       "    </tr>\n",
       "  </thead>\n",
       "  <tbody>\n",
       "    <tr>\n",
       "      <th>0</th>\n",
       "      <td>-0.660538</td>\n",
       "      <td>0.854266</td>\n",
       "      <td>2.295052</td>\n",
       "    </tr>\n",
       "    <tr>\n",
       "      <th>1</th>\n",
       "      <td>-0.660538</td>\n",
       "      <td>-2.357400</td>\n",
       "      <td>-0.728422</td>\n",
       "    </tr>\n",
       "    <tr>\n",
       "      <th>3</th>\n",
       "      <td>-0.660538</td>\n",
       "      <td>0.224527</td>\n",
       "      <td>-0.728422</td>\n",
       "    </tr>\n",
       "    <tr>\n",
       "      <th>5</th>\n",
       "      <td>-0.660538</td>\n",
       "      <td>-2.357400</td>\n",
       "      <td>-0.832680</td>\n",
       "    </tr>\n",
       "    <tr>\n",
       "      <th>6</th>\n",
       "      <td>-0.660538</td>\n",
       "      <td>-2.357400</td>\n",
       "      <td>-0.832680</td>\n",
       "    </tr>\n",
       "  </tbody>\n",
       "</table>\n",
       "</div>"
      ],
      "text/plain": [
       "   ConvertedComp  WorkWeekHrs  YearsCode\n",
       "0      -0.660538     0.854266   2.295052\n",
       "1      -0.660538    -2.357400  -0.728422\n",
       "3      -0.660538     0.224527  -0.728422\n",
       "5      -0.660538    -2.357400  -0.832680\n",
       "6      -0.660538    -2.357400  -0.832680"
      ]
     },
     "execution_count": 74,
     "metadata": {},
     "output_type": "execute_result"
    }
   ],
   "source": [
    "scaler = StandardScaler() # Initialize scaler\n",
    "X_trans = pd.DataFrame(scaler.fit_transform(X.values), columns=X.columns, index=X.index) # Normalize variables for better predictions\n",
    "X_trans.head() # Check results"
   ]
  },
  {
   "cell_type": "code",
   "execution_count": 75,
   "metadata": {},
   "outputs": [],
   "source": [
    "X_train, X_test, y_train, y_test = train_test_split(X_trans, y, test_size=0.2, random_state=123) # Split data set"
   ]
  },
  {
   "cell_type": "code",
   "execution_count": 76,
   "metadata": {},
   "outputs": [
    {
     "name": "stderr",
     "output_type": "stream",
     "text": [
      "/opt/conda/lib/python3.6/site-packages/sklearn/utils/validation.py:578: DataConversionWarning: A column-vector y was passed when a 1d array was expected. Please change the shape of y to (n_samples, ), for example using ravel().\n",
      "  y = column_or_1d(y, warn=True)\n"
     ]
    },
    {
     "data": {
      "text/plain": [
       "LogisticRegression(C=1.0, class_weight=None, dual=False, fit_intercept=True,\n",
       "          intercept_scaling=1, max_iter=100, multi_class='ovr', n_jobs=1,\n",
       "          penalty='l2', random_state=None, solver='liblinear', tol=0.0001,\n",
       "          verbose=0, warm_start=False)"
      ]
     },
     "execution_count": 76,
     "metadata": {},
     "output_type": "execute_result"
    }
   ],
   "source": [
    "lr_model = LogisticRegression() # Instantiate\n",
    "lr_model.fit(X_train, y_train) #Fit\n"
   ]
  },
  {
   "cell_type": "code",
   "execution_count": 77,
   "metadata": {},
   "outputs": [],
   "source": [
    "#Predict using your model\n",
    "y_test_preds = lr_model.predict(X_test)\n",
    "y_train_preds = lr_model.predict(X_train)\n",
    "\n",
    "#Score using your model\n",
    "test_score = accuracy_score(y_test, y_test_preds)\n",
    "train_score = accuracy_score(y_train, y_train_preds)\n"
   ]
  },
  {
   "cell_type": "code",
   "execution_count": 78,
   "metadata": {},
   "outputs": [
    {
     "name": "stdout",
     "output_type": "stream",
     "text": [
      "0.631226662979\n",
      "0.632702732603\n"
     ]
    }
   ],
   "source": [
    "# Accuracy for train and test set\n",
    "print(train_score)\n",
    "print(test_score)"
   ]
  },
  {
   "cell_type": "code",
   "execution_count": 79,
   "metadata": {},
   "outputs": [
    {
     "data": {
      "text/plain": [
       "array([[   0, 3320],\n",
       "       [   0, 5719]])"
      ]
     },
     "execution_count": 79,
     "metadata": {},
     "output_type": "execute_result"
    }
   ],
   "source": [
    "confusion_matrix(y_test, y_test_preds) # Confusion matrix"
   ]
  },
  {
   "cell_type": "markdown",
   "metadata": {},
   "source": [
    "We can see that the logistic regression model actually classifies all respondents as satisfied. This results in an accuracy of around 63% both for the training and test set. These results indicate that the model actually is not able to make any (valuable) predictions."
   ]
  },
  {
   "cell_type": "markdown",
   "metadata": {},
   "source": [
    "#### 4.4.2 Decision Tree"
   ]
  },
  {
   "cell_type": "code",
   "execution_count": 80,
   "metadata": {},
   "outputs": [
    {
     "data": {
      "text/plain": [
       "DecisionTreeClassifier(class_weight=None, criterion='gini', max_depth=None,\n",
       "            max_features=None, max_leaf_nodes=None,\n",
       "            min_impurity_decrease=0.0, min_impurity_split=None,\n",
       "            min_samples_leaf=1, min_samples_split=2,\n",
       "            min_weight_fraction_leaf=0.0, presort=False, random_state=None,\n",
       "            splitter='best')"
      ]
     },
     "execution_count": 80,
     "metadata": {},
     "output_type": "execute_result"
    }
   ],
   "source": [
    "clf = tree.DecisionTreeClassifier() # Instantiate\n",
    "clf.fit(X_train, y_train) # Fit"
   ]
  },
  {
   "cell_type": "code",
   "execution_count": 81,
   "metadata": {},
   "outputs": [],
   "source": [
    "#Predict using your model\n",
    "y_test_preds = clf.predict(X_test)\n",
    "y_train_preds = clf.predict(X_train)"
   ]
  },
  {
   "cell_type": "code",
   "execution_count": 82,
   "metadata": {},
   "outputs": [],
   "source": [
    "cm = confusion_matrix(y_test, y_test_preds) # Create Confusion Matrix"
   ]
  },
  {
   "cell_type": "code",
   "execution_count": 83,
   "metadata": {},
   "outputs": [
    {
     "data": {
      "image/png": "[encoded data removed]",
      "text/plain": [
       "<matplotlib.figure.Figure at 0x7fa126cc7588>"
      ]
     },
     "metadata": {
      "needs_background": "light"
     },
     "output_type": "display_data"
    }
   ],
   "source": [
    "# Plot confusion matrix\n",
    "ax = sns.heatmap(cm, annot=True, fmt='g', cmap = 'Blues');\n",
    "# labels, title and ticks\n",
    "ax.set_xlabel('Predicted labels', size = 12);\n",
    "ax.set_ylabel('True labels', size = 12); \n",
    "ax.set_title('Confusion Matrix', size = 14,fontweight='bold'); \n",
    "ax.xaxis.set_ticklabels(['Not satisfied', 'Satisfied']); \n",
    "ax.yaxis.set_ticklabels(['Not satisfied', 'Satisfied']);"
   ]
  },
  {
   "cell_type": "code",
   "execution_count": 84,
   "metadata": {},
   "outputs": [
    {
     "name": "stdout",
     "output_type": "stream",
     "text": [
      "0.874761443784\n",
      "0.548954530368\n"
     ]
    }
   ],
   "source": [
    "# Check train and test scores\n",
    "test_score = accuracy_score(y_test, y_test_preds)\n",
    "train_score = accuracy_score(y_train, y_train_preds)\n",
    "print(train_score)\n",
    "print(test_score)"
   ]
  },
  {
   "cell_type": "markdown",
   "metadata": {},
   "source": [
    "In contrast to the logistic regression model, the decision tree is clearly overfitting as the accuracy on the train set by far exceeds the accuracy on the test set."
   ]
  },
  {
   "cell_type": "code",
   "execution_count": 85,
   "metadata": {},
   "outputs": [
    {
     "data": {
      "text/plain": [
       "[Text(0,0,'Annual Salary'),\n",
       " Text(0,0,'Weekly Working Hours'),\n",
       " Text(0,0,'Years of Coding Experience')]"
      ]
     },
     "execution_count": 85,
     "metadata": {},
     "output_type": "execute_result"
    },
    {
     "data": {
      "image/png": "[encoded data removed]",
      "text/plain": [
       "<matplotlib.figure.Figure at 0x7fa1269e2160>"
      ]
     },
     "metadata": {
      "needs_background": "light"
     },
     "output_type": "display_data"
    }
   ],
   "source": [
    "# Check out the importance of each variable for the model to predict JobSatBinary\n",
    "importance = clf.tree_.compute_feature_importances(normalize=False)\n",
    "# summarize feature importance\n",
    "plot_importance = pd.DataFrame(importance.T, columns=['Variable Importance'], index=X.columns).plot(kind = 'bar', color = 'lightblue')\n",
    "# Format and annotate labels\n",
    "plt.xlabel('Explanatory Variable', size = 12)\n",
    "plt.ylabel('Variable Importance', size = 12)\n",
    "plt.title('Variable Importance in Decision Tree Model', size = 14,fontweight='bold')\n",
    "# Remove axis\n",
    "sns.despine()\n",
    "# Remove legend\n",
    "plot_importance.get_legend().remove()\n",
    "plot_importance.set_xticklabels(['Annual Salary', 'Weekly Working Hours', 'Years of Coding Experience'], rotation=360)"
   ]
  },
  {
   "cell_type": "markdown",
   "metadata": {},
   "source": [
    "As indicated by the univariate analysis, the annual salary seems to have the strongest correlation with job satisfaction. \n",
    "However, we need to take into account that the model is clearly overfitting. Hence, this values might not correctly represent the correlation for all respondents."
   ]
  },
  {
   "cell_type": "markdown",
   "metadata": {},
   "source": [
    "#### 4.4.3 Random Forest"
   ]
  },
  {
   "cell_type": "code",
   "execution_count": 86,
   "metadata": {},
   "outputs": [
    {
     "name": "stderr",
     "output_type": "stream",
     "text": [
      "/opt/conda/lib/python3.6/site-packages/ipykernel_launcher.py:2: DataConversionWarning: A column-vector y was passed when a 1d array was expected. Please change the shape of y to (n_samples,), for example using ravel().\n",
      "  \n"
     ]
    }
   ],
   "source": [
    "forest = RandomForestClassifier(n_estimators=100) # instantiate and define number of trees\n",
    "forest = forest.fit(X, y) # fit"
   ]
  },
  {
   "cell_type": "code",
   "execution_count": 87,
   "metadata": {},
   "outputs": [],
   "source": [
    "#Predict using your model\n",
    "y_test_preds = forest.predict(X_test) # predict\n",
    "y_train_preds = forest.predict(X_train) # predict"
   ]
  },
  {
   "cell_type": "code",
   "execution_count": 88,
   "metadata": {},
   "outputs": [],
   "source": [
    "cm = confusion_matrix(y_test, y_test_preds) # Create Confusion Matrix"
   ]
  },
  {
   "cell_type": "code",
   "execution_count": 89,
   "metadata": {},
   "outputs": [
    {
     "data": {
      "image/png": "[encoded data removed]",
      "text/plain": [
       "<matplotlib.figure.Figure at 0x7fa1268d4cf8>"
      ]
     },
     "metadata": {
      "needs_background": "light"
     },
     "output_type": "display_data"
    }
   ],
   "source": [
    "# Plot confusion matrix\n",
    "ax = sns.heatmap(cm, annot=True, fmt='g', cmap = 'Blues');\n",
    "# labels, title and ticks\n",
    "ax.set_xlabel('Predicted labels', size = 12);\n",
    "ax.set_ylabel('True labels', size = 12); \n",
    "ax.set_title('Confusion Matrix', size = 14,fontweight='bold'); \n",
    "ax.xaxis.set_ticklabels(['Not satisfied', 'Satisfied']); \n",
    "ax.yaxis.set_ticklabels(['Not satisfied', 'Satisfied']);"
   ]
  },
  {
   "cell_type": "code",
   "execution_count": 90,
   "metadata": {},
   "outputs": [
    {
     "name": "stdout",
     "output_type": "stream",
     "text": [
      "0.533674457198\n",
      "0.525943135303\n"
     ]
    }
   ],
   "source": [
    "# Check train and test scores\n",
    "test_score = accuracy_score(y_test, y_test_preds)\n",
    "train_score = accuracy_score(y_train, y_train_preds)\n",
    "print(train_score)\n",
    "print(test_score)"
   ]
  },
  {
   "cell_type": "markdown",
   "metadata": {},
   "source": [
    "This model also does not work as the accuracy is again extremely low both for the train and the test set."
   ]
  },
  {
   "cell_type": "markdown",
   "metadata": {},
   "source": [
    "In summary, the three models suggest that the three selected predictors are definitely not sufficient to make good predictions regarding the job satisfaction. Instead, they complement the previous analysis and imply that except for a higher salary, satisfied developers don't share any other visible traits (which the analysis examined) that might differentiate them from their less satisfied developers."
   ]
  },
  {
   "cell_type": "markdown",
   "metadata": {},
   "source": [
    "## 5 Evaluation and Conclusion"
   ]
  },
  {
   "cell_type": "markdown",
   "metadata": {},
   "source": [
    "This analysis explored some of the characteristics that satisfied developers might share. Through this exploration, the analysis set out to determine whether developers (or people who want to become developers) could influence any of these factors that might impact job satisfaction.\n",
    "\n",
    "The analysis revealed that developers who are satisfied or very satisfied tend to have a higher salary than their colleagues who are (very) unsatisfied. Interestingly, respondents who where somewhat indifferent regarding their job satisfaction tend to have the lowest salary (also compared to the (very) unsatisfied respondents).\n",
    "\n",
    "On the other hand, there was no obvious relation between job satisfaction and the working hours. Independent of their job satisfaction, the median weekly working hours for developers corresponds to 40. The analysis only revealed that the spread for developers who are very dissatisfied or answered that they were neither satisfied nor dissatisfied is larger than for the other categories.\n",
    "\n",
    "Similar to the weekly working hours, the analysis did not suggest a clear relationship between coding experience and job satisfaction. The median coding experience varied between 10 and 12 years for the categories. Only respondents who had not stated their job satisfaction stood out. They tend to have only 3 years of median coding experience. However, the analysis revealed a potential selection bias of the survey as the vast majority of the respondents tended to represent long-term developers.\n",
    "\n",
    "To complement the univariate analysis, a multivariate analysis was conducted to explore whether the three explanatory variables would be sufficient to create a model that could predict job satisfaction. All three created models suggest that this is not the case. Instead, the results indicate that many (ommitted) variables influence job satisfaction, apart from the three included ones.\n",
    "\n",
    "In summary, the results indicate that satisfied (and dissatisfied) developers can be both experts with years of experience as well as novices in their field and work either long hours or rather short hours. Only a higher salary tends to be associated with a higher job satisfaction. However, regarding this correlation, one needs to be carefuel in terms of interpreting it as we cannot derive causation, that is getting a higher salary resulting in a higher job satisfaction. Instead, we could also assume that developers who are satisfied tend to be more productive and, therefore, receive a higher salary. This means that the three variables don't reveal any obvious path to becoming a satisfied developer. "
   ]
  },
  {
   "cell_type": "code",
   "execution_count": null,
   "metadata": {},
   "outputs": [],
   "source": []
  }
 ],
 "metadata": {
  "kernelspec": {
   "display_name": "Python 3",
   "language": "python",
   "name": "python3"
  },
  "language_info": {
   "codemirror_mode": {
    "name": "ipython",
    "version": 3
   },
   "file_extension": ".py",
   "mimetype": "text/x-python",
   "name": "python",
   "nbconvert_exporter": "python",
   "pygments_lexer": "ipython3",
   "version": "3.6.3"
  }
 },
 "nbformat": 4,
 "nbformat_minor": 2
}
